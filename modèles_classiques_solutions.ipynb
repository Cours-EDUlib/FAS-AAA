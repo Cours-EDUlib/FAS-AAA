{
  "nbformat": 4,
  "nbformat_minor": 0,
  "metadata": {
    "colab": {
      "name": "modèles_classiques_solutions.ipynb",
      "provenance": [],
      "collapsed_sections": [
        "NbTZLD12eq75"
      ]
    },
    "kernelspec": {
      "name": "python3",
      "display_name": "Python 3"
    },
    "language_info": {
      "name": "python"
    }
  },
  "cells": [
    {
      "cell_type": "markdown",
      "source": [
        "<img align=\"left\" src=\"https://drive.google.com/uc?export=view&id=1orv1XTixxkcGADz18uSwN_5kCtd1yM7q\" alt=\"drawing\" width=\"100%\"/>"
      ],
      "metadata": {
        "id": "2q3Ki0_vYKEp"
      }
    },
    {
      "cell_type": "markdown",
      "source": [
        "<img align=\"left\" src=\"https://drive.google.com/uc?id=1dUhDyLOrHHP0ghjdb2ZhvyQZ0ZpcmoIm\" alt=\"drawing\" width=\"200\"/> **<font color = 2b2b99 face=\"Times New Roman\" size=7>Forêts aléatoires || Modèle bayésien || SVM (solutions) </font>**"
      ],
      "metadata": {
        "id": "JLm3FF4ZYPwG"
      }
    },
    {
      "cell_type": "markdown",
      "source": [
        "L'objectif de ce tutoriel est d'appliquer sur un ensemble d'exemples les modèles suivants :\n",
        "\n",
        "\n",
        "*   Forêts aléatoires\n",
        "*   Modèle bayésien\n",
        "*   Support vecteur machine\n",
        "\n"
      ],
      "metadata": {
        "id": "5Kv2YtOWYrzm"
      }
    },
    {
      "cell_type": "code",
      "source": [
        "#@markdown ### <font size=6 color='Red' face = \"Times New Roman\"> &nwarr;Exécutez cette cellule avant de débuter.</font>\n",
        "\n",
        "# NE PAS TOUCHER À CETTE CELLULE\n",
        "# Cette cellule installe les bibliothèques nécessaires pour que le calepin fonctionne.\n",
        "# ici on spécifie les versions des bibliothèques\n",
        "!pip install -q numpy==1.21.5 &> /dev/null #cache les erreurs de dépendance de numpy pour des packages qu'on n'utilise pas\n",
        "!pip install -q pandas==1.3.5 &> /dev/null\n",
        "!pip install -q matplotlib==3.2.2 &> /dev/null\n",
        "!pip install -q scikit-learn==1.0.2 &> /dev/null\n",
        "!pip install -q scikit-image==0.18.2 &> /dev/null\n",
        "!pip install -q imgaug==0.2.5 &> /dev/null\n",
        "\n",
        "!pip install -q requests==2.23.0 &> /dev/null\n",
        "!pip install -q IPython==5.5.0 &> /dev/null\n",
        "\n",
        "# # Il faut repartir le kernel\n",
        "import warnings\n",
        "import sys\n",
        "with warnings.catch_warnings():\n",
        "    print(\"Le calepin est prêt à être utilisé.\")\n",
        "    print(\"Si vous voyez un message de 'crash' en bas à gauche, c'est normal. \")\n",
        "    exit()"
      ],
      "metadata": {
        "id": "8wx2L20Kxhd_"
      },
      "execution_count": null,
      "outputs": []
    },
    {
      "cell_type": "markdown",
      "source": [
        "# <img align=\"center\" src=\"https://drive.google.com/uc?export=view&id=1HjAM7KY8wrX73rl0F_aOnK5Z-vwwsCrX\" alt=\"drawing\" width=\"100\"/> **<font color = \"3832ba\" face=\"Times New Roman\" size=6>Les librairies</font>**"
      ],
      "metadata": {
        "id": "8SS6cVqkZV_c"
      }
    },
    {
      "cell_type": "code",
      "execution_count": null,
      "metadata": {
        "id": "dDay01FRVX5D"
      },
      "outputs": [],
      "source": [
        "import numpy as np\n",
        "import pandas as pd\n",
        "import matplotlib.pyplot as plt"
      ]
    },
    {
      "cell_type": "markdown",
      "source": [
        "# <img align=\"center\" src=\"https://drive.google.com/uc?export=view&id=1HjAM7KY8wrX73rl0F_aOnK5Z-vwwsCrX\" alt=\"drawing\" width=\"100\"/> **<font color = \"3832ba\" face=\"Times New Roman\" size=6>Les données</font>**"
      ],
      "metadata": {
        "id": "FiIk-j_3Hfam"
      }
    },
    {
      "cell_type": "markdown",
      "source": [
        "## <img align=\"center\" src=\"https://drive.google.com/uc?export=view&id=1HjAM7KY8wrX73rl0F_aOnK5Z-vwwsCrX\" alt=\"drawing\" width=\"100\"/> <font color = \"3832ba\" face=\"Times New Roman\" size=6>Création de nos données</font>"
      ],
      "metadata": {
        "id": "jemYUmwMgxLw"
      }
    },
    {
      "cell_type": "markdown",
      "source": [
        "\n",
        "\n",
        "> Dans ce jeu de données, des recommandations au sujet d'une école sont données en fonction de certains critères :\n",
        "* TauxReussite : son taux de réussite.\n",
        "* TauxInsertionProfessionnelle : le taux d'insertion professionnelle des élèves dans le marché de l'emploi.\n",
        "* SalaireMoyen : le salaire moyen des élèves qui ont trouvé du travail.\n"
      ],
      "metadata": {
        "id": "HXnIGiLZ9nZw"
      }
    },
    {
      "cell_type": "code",
      "source": [
        "data = pd.DataFrame()  # on crée un tableau de données\n",
        "\n",
        "np.random.seed(0) # random.seed c'est pour avoir des résultats qui sont reproductibles\n",
        "data['TauxReussite'] = np.random.uniform(0.45, 0.95, 200) # on génère 200 valeurs de manière uniforme entre 0,45 et 0,95\n",
        "data['TauxReussite'] = np.round(data['TauxReussite'], 2) # on arrondit ses valeurs à deux chiffres après la virgule\n",
        "\n",
        "np.random.seed(1)\n",
        "data['TauxInsertionProfessionnelle'] = np.random.uniform(0.45, 0.95, 200) \n",
        "data['TauxInsertionProfessionnelle'] = np.round(data['TauxInsertionProfessionnelle'], 2)\n",
        "\n",
        "np.random.seed(2)\n",
        "data['SalaireMoyen'] = np.random.uniform(60000, 100000, 200)\n",
        "data['SalaireMoyen'] = np.round(data['SalaireMoyen'], 0)\n",
        "\n",
        "np.random.seed(4)\n",
        "data['Recommandation'] = np.random.choice(['Oui', 'Non'], 200) # on génère au hasard 200 valeurs qui sont soient « Oui » ou « Non »\n",
        "\n",
        "data.head() # j'affiche quelques exemples"
      ],
      "metadata": {
        "id": "Cs-556rqHd-e",
        "colab": {
          "base_uri": "https://localhost:8080/",
          "height": 206
        },
        "outputId": "03475f77-d3ce-433d-b8dc-d6fced290c9c"
      },
      "execution_count": null,
      "outputs": [
        {
          "output_type": "execute_result",
          "data": {
            "text/plain": [
              "   TauxReussite  TauxInsertionProfessionnelle  SalaireMoyen Recommandation\n",
              "0          0.72                          0.66       77440.0            Oui\n",
              "1          0.81                          0.81       61037.0            Oui\n",
              "2          0.75                          0.45       81986.0            Non\n",
              "3          0.72                          0.60       77413.0            Non\n",
              "4          0.66                          0.52       76815.0            Non"
            ],
            "text/html": [
              "\n",
              "  <div id=\"df-562282f8-caa4-47a9-bfc7-5fe3a573437d\">\n",
              "    <div class=\"colab-df-container\">\n",
              "      <div>\n",
              "<style scoped>\n",
              "    .dataframe tbody tr th:only-of-type {\n",
              "        vertical-align: middle;\n",
              "    }\n",
              "\n",
              "    .dataframe tbody tr th {\n",
              "        vertical-align: top;\n",
              "    }\n",
              "\n",
              "    .dataframe thead th {\n",
              "        text-align: right;\n",
              "    }\n",
              "</style>\n",
              "<table border=\"1\" class=\"dataframe\">\n",
              "  <thead>\n",
              "    <tr style=\"text-align: right;\">\n",
              "      <th></th>\n",
              "      <th>TauxReussite</th>\n",
              "      <th>TauxInsertionProfessionnelle</th>\n",
              "      <th>SalaireMoyen</th>\n",
              "      <th>Recommandation</th>\n",
              "    </tr>\n",
              "  </thead>\n",
              "  <tbody>\n",
              "    <tr>\n",
              "      <th>0</th>\n",
              "      <td>0.72</td>\n",
              "      <td>0.66</td>\n",
              "      <td>77440.0</td>\n",
              "      <td>Oui</td>\n",
              "    </tr>\n",
              "    <tr>\n",
              "      <th>1</th>\n",
              "      <td>0.81</td>\n",
              "      <td>0.81</td>\n",
              "      <td>61037.0</td>\n",
              "      <td>Oui</td>\n",
              "    </tr>\n",
              "    <tr>\n",
              "      <th>2</th>\n",
              "      <td>0.75</td>\n",
              "      <td>0.45</td>\n",
              "      <td>81986.0</td>\n",
              "      <td>Non</td>\n",
              "    </tr>\n",
              "    <tr>\n",
              "      <th>3</th>\n",
              "      <td>0.72</td>\n",
              "      <td>0.60</td>\n",
              "      <td>77413.0</td>\n",
              "      <td>Non</td>\n",
              "    </tr>\n",
              "    <tr>\n",
              "      <th>4</th>\n",
              "      <td>0.66</td>\n",
              "      <td>0.52</td>\n",
              "      <td>76815.0</td>\n",
              "      <td>Non</td>\n",
              "    </tr>\n",
              "  </tbody>\n",
              "</table>\n",
              "</div>\n",
              "      <button class=\"colab-df-convert\" onclick=\"convertToInteractive('df-562282f8-caa4-47a9-bfc7-5fe3a573437d')\"\n",
              "              title=\"Convert this dataframe to an interactive table.\"\n",
              "              style=\"display:none;\">\n",
              "        \n",
              "  <svg xmlns=\"http://www.w3.org/2000/svg\" height=\"24px\"viewBox=\"0 0 24 24\"\n",
              "       width=\"24px\">\n",
              "    <path d=\"M0 0h24v24H0V0z\" fill=\"none\"/>\n",
              "    <path d=\"M18.56 5.44l.94 2.06.94-2.06 2.06-.94-2.06-.94-.94-2.06-.94 2.06-2.06.94zm-11 1L8.5 8.5l.94-2.06 2.06-.94-2.06-.94L8.5 2.5l-.94 2.06-2.06.94zm10 10l.94 2.06.94-2.06 2.06-.94-2.06-.94-.94-2.06-.94 2.06-2.06.94z\"/><path d=\"M17.41 7.96l-1.37-1.37c-.4-.4-.92-.59-1.43-.59-.52 0-1.04.2-1.43.59L10.3 9.45l-7.72 7.72c-.78.78-.78 2.05 0 2.83L4 21.41c.39.39.9.59 1.41.59.51 0 1.02-.2 1.41-.59l7.78-7.78 2.81-2.81c.8-.78.8-2.07 0-2.86zM5.41 20L4 18.59l7.72-7.72 1.47 1.35L5.41 20z\"/>\n",
              "  </svg>\n",
              "      </button>\n",
              "      \n",
              "  <style>\n",
              "    .colab-df-container {\n",
              "      display:flex;\n",
              "      flex-wrap:wrap;\n",
              "      gap: 12px;\n",
              "    }\n",
              "\n",
              "    .colab-df-convert {\n",
              "      background-color: #E8F0FE;\n",
              "      border: none;\n",
              "      border-radius: 50%;\n",
              "      cursor: pointer;\n",
              "      display: none;\n",
              "      fill: #1967D2;\n",
              "      height: 32px;\n",
              "      padding: 0 0 0 0;\n",
              "      width: 32px;\n",
              "    }\n",
              "\n",
              "    .colab-df-convert:hover {\n",
              "      background-color: #E2EBFA;\n",
              "      box-shadow: 0px 1px 2px rgba(60, 64, 67, 0.3), 0px 1px 3px 1px rgba(60, 64, 67, 0.15);\n",
              "      fill: #174EA6;\n",
              "    }\n",
              "\n",
              "    [theme=dark] .colab-df-convert {\n",
              "      background-color: #3B4455;\n",
              "      fill: #D2E3FC;\n",
              "    }\n",
              "\n",
              "    [theme=dark] .colab-df-convert:hover {\n",
              "      background-color: #434B5C;\n",
              "      box-shadow: 0px 1px 3px 1px rgba(0, 0, 0, 0.15);\n",
              "      filter: drop-shadow(0px 1px 2px rgba(0, 0, 0, 0.3));\n",
              "      fill: #FFFFFF;\n",
              "    }\n",
              "  </style>\n",
              "\n",
              "      <script>\n",
              "        const buttonEl =\n",
              "          document.querySelector('#df-562282f8-caa4-47a9-bfc7-5fe3a573437d button.colab-df-convert');\n",
              "        buttonEl.style.display =\n",
              "          google.colab.kernel.accessAllowed ? 'block' : 'none';\n",
              "\n",
              "        async function convertToInteractive(key) {\n",
              "          const element = document.querySelector('#df-562282f8-caa4-47a9-bfc7-5fe3a573437d');\n",
              "          const dataTable =\n",
              "            await google.colab.kernel.invokeFunction('convertToInteractive',\n",
              "                                                     [key], {});\n",
              "          if (!dataTable) return;\n",
              "\n",
              "          const docLinkHtml = 'Like what you see? Visit the ' +\n",
              "            '<a target=\"_blank\" href=https://colab.research.google.com/notebooks/data_table.ipynb>data table notebook</a>'\n",
              "            + ' to learn more about interactive tables.';\n",
              "          element.innerHTML = '';\n",
              "          dataTable['output_type'] = 'display_data';\n",
              "          await google.colab.output.renderOutput(dataTable, element);\n",
              "          const docLink = document.createElement('div');\n",
              "          docLink.innerHTML = docLinkHtml;\n",
              "          element.appendChild(docLink);\n",
              "        }\n",
              "      </script>\n",
              "    </div>\n",
              "  </div>\n",
              "  "
            ]
          },
          "metadata": {},
          "execution_count": 3
        }
      ]
    },
    {
      "cell_type": "markdown",
      "source": [
        "## <img align=\"center\" src=\"https://drive.google.com/uc?export=view&id=1HjAM7KY8wrX73rl0F_aOnK5Z-vwwsCrX\" alt=\"drawing\" width=\"100\"/> <font color = \"3832ba\" face=\"Times New Roman\" size=6>Transformation des données</font>"
      ],
      "metadata": {
        "id": "ss0BnX9hg5T4"
      }
    },
    {
      "cell_type": "markdown",
      "source": [
        "\n",
        "\n",
        "> On va transformer *Recommandation* en caractéristique binaire :\n",
        "* 0 : Non\n",
        "* 1 : Oui\n",
        "\n",
        "\n",
        "---\n",
        "\n"
      ],
      "metadata": {
        "id": "KPJYE7qag_sQ"
      }
    },
    {
      "cell_type": "code",
      "source": [
        "from sklearn.preprocessing import label_binarize ## c'est pour l'encodage binaire\n",
        "\n",
        "data_transf = data.copy() # je fais une copie du data que je vais modifier\n",
        "data_transf['Recommandation'] = label_binarize(data['Recommandation'], classes = ['Non', 'Oui']) # je remplace Recommandation par son encodage binaire\n",
        "\n",
        "data_transf.head()"
      ],
      "metadata": {
        "id": "4hTG58S0Zjwd",
        "colab": {
          "base_uri": "https://localhost:8080/",
          "height": 206
        },
        "outputId": "1e7e6a87-67a1-4455-9229-0a01ba218d5c"
      },
      "execution_count": null,
      "outputs": [
        {
          "output_type": "execute_result",
          "data": {
            "text/plain": [
              "   TauxReussite  TauxInsertionProfessionnelle  SalaireMoyen  Recommandation\n",
              "0          0.72                          0.66       77440.0               1\n",
              "1          0.81                          0.81       61037.0               1\n",
              "2          0.75                          0.45       81986.0               0\n",
              "3          0.72                          0.60       77413.0               0\n",
              "4          0.66                          0.52       76815.0               0"
            ],
            "text/html": [
              "\n",
              "  <div id=\"df-1685a78a-e281-4d39-a57a-9f7ec4b7386f\">\n",
              "    <div class=\"colab-df-container\">\n",
              "      <div>\n",
              "<style scoped>\n",
              "    .dataframe tbody tr th:only-of-type {\n",
              "        vertical-align: middle;\n",
              "    }\n",
              "\n",
              "    .dataframe tbody tr th {\n",
              "        vertical-align: top;\n",
              "    }\n",
              "\n",
              "    .dataframe thead th {\n",
              "        text-align: right;\n",
              "    }\n",
              "</style>\n",
              "<table border=\"1\" class=\"dataframe\">\n",
              "  <thead>\n",
              "    <tr style=\"text-align: right;\">\n",
              "      <th></th>\n",
              "      <th>TauxReussite</th>\n",
              "      <th>TauxInsertionProfessionnelle</th>\n",
              "      <th>SalaireMoyen</th>\n",
              "      <th>Recommandation</th>\n",
              "    </tr>\n",
              "  </thead>\n",
              "  <tbody>\n",
              "    <tr>\n",
              "      <th>0</th>\n",
              "      <td>0.72</td>\n",
              "      <td>0.66</td>\n",
              "      <td>77440.0</td>\n",
              "      <td>1</td>\n",
              "    </tr>\n",
              "    <tr>\n",
              "      <th>1</th>\n",
              "      <td>0.81</td>\n",
              "      <td>0.81</td>\n",
              "      <td>61037.0</td>\n",
              "      <td>1</td>\n",
              "    </tr>\n",
              "    <tr>\n",
              "      <th>2</th>\n",
              "      <td>0.75</td>\n",
              "      <td>0.45</td>\n",
              "      <td>81986.0</td>\n",
              "      <td>0</td>\n",
              "    </tr>\n",
              "    <tr>\n",
              "      <th>3</th>\n",
              "      <td>0.72</td>\n",
              "      <td>0.60</td>\n",
              "      <td>77413.0</td>\n",
              "      <td>0</td>\n",
              "    </tr>\n",
              "    <tr>\n",
              "      <th>4</th>\n",
              "      <td>0.66</td>\n",
              "      <td>0.52</td>\n",
              "      <td>76815.0</td>\n",
              "      <td>0</td>\n",
              "    </tr>\n",
              "  </tbody>\n",
              "</table>\n",
              "</div>\n",
              "      <button class=\"colab-df-convert\" onclick=\"convertToInteractive('df-1685a78a-e281-4d39-a57a-9f7ec4b7386f')\"\n",
              "              title=\"Convert this dataframe to an interactive table.\"\n",
              "              style=\"display:none;\">\n",
              "        \n",
              "  <svg xmlns=\"http://www.w3.org/2000/svg\" height=\"24px\"viewBox=\"0 0 24 24\"\n",
              "       width=\"24px\">\n",
              "    <path d=\"M0 0h24v24H0V0z\" fill=\"none\"/>\n",
              "    <path d=\"M18.56 5.44l.94 2.06.94-2.06 2.06-.94-2.06-.94-.94-2.06-.94 2.06-2.06.94zm-11 1L8.5 8.5l.94-2.06 2.06-.94-2.06-.94L8.5 2.5l-.94 2.06-2.06.94zm10 10l.94 2.06.94-2.06 2.06-.94-2.06-.94-.94-2.06-.94 2.06-2.06.94z\"/><path d=\"M17.41 7.96l-1.37-1.37c-.4-.4-.92-.59-1.43-.59-.52 0-1.04.2-1.43.59L10.3 9.45l-7.72 7.72c-.78.78-.78 2.05 0 2.83L4 21.41c.39.39.9.59 1.41.59.51 0 1.02-.2 1.41-.59l7.78-7.78 2.81-2.81c.8-.78.8-2.07 0-2.86zM5.41 20L4 18.59l7.72-7.72 1.47 1.35L5.41 20z\"/>\n",
              "  </svg>\n",
              "      </button>\n",
              "      \n",
              "  <style>\n",
              "    .colab-df-container {\n",
              "      display:flex;\n",
              "      flex-wrap:wrap;\n",
              "      gap: 12px;\n",
              "    }\n",
              "\n",
              "    .colab-df-convert {\n",
              "      background-color: #E8F0FE;\n",
              "      border: none;\n",
              "      border-radius: 50%;\n",
              "      cursor: pointer;\n",
              "      display: none;\n",
              "      fill: #1967D2;\n",
              "      height: 32px;\n",
              "      padding: 0 0 0 0;\n",
              "      width: 32px;\n",
              "    }\n",
              "\n",
              "    .colab-df-convert:hover {\n",
              "      background-color: #E2EBFA;\n",
              "      box-shadow: 0px 1px 2px rgba(60, 64, 67, 0.3), 0px 1px 3px 1px rgba(60, 64, 67, 0.15);\n",
              "      fill: #174EA6;\n",
              "    }\n",
              "\n",
              "    [theme=dark] .colab-df-convert {\n",
              "      background-color: #3B4455;\n",
              "      fill: #D2E3FC;\n",
              "    }\n",
              "\n",
              "    [theme=dark] .colab-df-convert:hover {\n",
              "      background-color: #434B5C;\n",
              "      box-shadow: 0px 1px 3px 1px rgba(0, 0, 0, 0.15);\n",
              "      filter: drop-shadow(0px 1px 2px rgba(0, 0, 0, 0.3));\n",
              "      fill: #FFFFFF;\n",
              "    }\n",
              "  </style>\n",
              "\n",
              "      <script>\n",
              "        const buttonEl =\n",
              "          document.querySelector('#df-1685a78a-e281-4d39-a57a-9f7ec4b7386f button.colab-df-convert');\n",
              "        buttonEl.style.display =\n",
              "          google.colab.kernel.accessAllowed ? 'block' : 'none';\n",
              "\n",
              "        async function convertToInteractive(key) {\n",
              "          const element = document.querySelector('#df-1685a78a-e281-4d39-a57a-9f7ec4b7386f');\n",
              "          const dataTable =\n",
              "            await google.colab.kernel.invokeFunction('convertToInteractive',\n",
              "                                                     [key], {});\n",
              "          if (!dataTable) return;\n",
              "\n",
              "          const docLinkHtml = 'Like what you see? Visit the ' +\n",
              "            '<a target=\"_blank\" href=https://colab.research.google.com/notebooks/data_table.ipynb>data table notebook</a>'\n",
              "            + ' to learn more about interactive tables.';\n",
              "          element.innerHTML = '';\n",
              "          dataTable['output_type'] = 'display_data';\n",
              "          await google.colab.output.renderOutput(dataTable, element);\n",
              "          const docLink = document.createElement('div');\n",
              "          docLink.innerHTML = docLinkHtml;\n",
              "          element.appendChild(docLink);\n",
              "        }\n",
              "      </script>\n",
              "    </div>\n",
              "  </div>\n",
              "  "
            ]
          },
          "metadata": {},
          "execution_count": 4
        }
      ]
    },
    {
      "cell_type": "markdown",
      "source": [
        "\n",
        "\n",
        "---\n",
        "\n",
        "\n",
        "> Par ailleurs, comme les données ont des ordres de grandeur différents (par exemple SalaireMoyen a des valeurs 100 000 fois plus importantes que celles des autres attributs), nous allons faire de la standardisation. Pour ce faire, il faut soustraire chaque attribut de sa moyenne et de le diviser par son écart type. Ainsi, un attribut aux valeurs élevées n'aura pas un poids plus important que les autres dans l'arbre. \n",
        "\n",
        "\n",
        "---\n",
        "\n",
        "\n"
      ],
      "metadata": {
        "id": "WbF3zXJUINMa"
      }
    },
    {
      "cell_type": "code",
      "source": [
        "from sklearn.preprocessing import StandardScaler ## pour la standardisation\n",
        "\n",
        "X = data_transf.drop('Recommandation', axis = 1) # on retire la colonne des classes (Recommandation) pour ne garder que les attributs\n",
        "X = X.to_numpy() # on transforme en matrice\n",
        "\n",
        "X = StandardScaler().fit_transform(X) # standardisation des attributs\n",
        "\n",
        "y = data_transf['Recommandation'] # y va représenter la colonne des classes (Recommandation) \n",
        "y = y.to_numpy()"
      ],
      "metadata": {
        "id": "U8YU0jRy6-kL"
      },
      "execution_count": null,
      "outputs": []
    },
    {
      "cell_type": "markdown",
      "source": [
        "## <img align=\"center\" src=\"https://drive.google.com/uc?export=view&id=1HjAM7KY8wrX73rl0F_aOnK5Z-vwwsCrX\" alt=\"drawing\" width=\"100\"/> <font color = \"3832ba\" face=\"Times New Roman\" size=6>Séparation en données tests et d'entraînement</font>"
      ],
      "metadata": {
        "id": "pJjyXCDfLNJ4"
      }
    },
    {
      "cell_type": "code",
      "source": [
        "from sklearn.model_selection import train_test_split # pour séparer en données entraînement et test\n",
        "\n",
        "X_train, X_test, y_train, y_test = train_test_split(X, y, test_size = 0.25, random_state = 23)"
      ],
      "metadata": {
        "id": "OMWEeRT5LNn_"
      },
      "execution_count": null,
      "outputs": []
    },
    {
      "cell_type": "markdown",
      "source": [
        "# <img align=\"center\" src=\"https://drive.google.com/uc?export=view&id=1HjAM7KY8wrX73rl0F_aOnK5Z-vwwsCrX\" alt=\"drawing\" width=\"100\"/> **<font color = \"3832ba\" face=\"Times New Roman\" size=6>Forêts aléatoires</font>**"
      ],
      "metadata": {
        "id": "4GWl9NkRcM63"
      }
    },
    {
      "cell_type": "markdown",
      "source": [
        "## <img align=\"center\" src=\"https://drive.google.com/uc?export=view&id=1HjAM7KY8wrX73rl0F_aOnK5Z-vwwsCrX\" alt=\"drawing\" width=\"100\"/> <font color = \"3832ba\" face=\"Times New Roman\" size=6>Entraînement et choix hyperparamètres</font>"
      ],
      "metadata": {
        "id": "LiIXZPMZMdk-"
      }
    },
    {
      "cell_type": "markdown",
      "source": [
        "\n",
        "\n",
        "> Pour le choix des hyperparamètres, on va tester avec GridSearchCV :\n",
        "* 2 critères : « gini » et « entropy »;\n",
        "* 3 valeurs différentes du nombre d'arbres : 50, 75 et 100.\n",
        "\n"
      ],
      "metadata": {
        "id": "P5a1nuOcTjqA"
      }
    },
    {
      "cell_type": "code",
      "source": [
        "from sklearn.ensemble import RandomForestClassifier # librairie pour la forêt aléatoire\n",
        "from sklearn.model_selection import GridSearchCV\n",
        "\n",
        "clf_rf = RandomForestClassifier(random_state=0) \n",
        "\n",
        "param_grid_rf = {\"criterion\": [\"gini\", \"entropy\"],\n",
        "                 \"n_estimators\": [50, 75, 100]}\n",
        "\n",
        "grid_search_rf = GridSearchCV(clf_rf, param_grid_rf, cv=5).fit(X_train, y_train) # on entraîne le modèle sur l'ensemble d'entraînement"
      ],
      "metadata": {
        "id": "PolhFTrvMjFm"
      },
      "execution_count": null,
      "outputs": []
    },
    {
      "cell_type": "code",
      "source": [
        "print('Les meilleurs paramètres sont:\\n %s' % grid_search_rf.best_params_)"
      ],
      "metadata": {
        "colab": {
          "base_uri": "https://localhost:8080/"
        },
        "id": "XGpDJFsITd-v",
        "outputId": "52c21d3c-9342-492e-8dea-78e765781447"
      },
      "execution_count": null,
      "outputs": [
        {
          "output_type": "stream",
          "name": "stdout",
          "text": [
            "Les meilleurs paramètres sont:\n",
            " {'criterion': 'entropy', 'n_estimators': 50}\n"
          ]
        }
      ]
    },
    {
      "cell_type": "markdown",
      "source": [
        "## <img align=\"center\" src=\"https://drive.google.com/uc?export=view&id=1HjAM7KY8wrX73rl0F_aOnK5Z-vwwsCrX\" alt=\"drawing\" width=\"100\"/> <font color = \"3832ba\" face=\"Times New Roman\" size=6>Évaluation</font>"
      ],
      "metadata": {
        "id": "JfgWiDG5MoZf"
      }
    },
    {
      "cell_type": "code",
      "source": [
        "clf_rf = grid_search_rf.best_estimator_ # on prend donc le modèle avec les meilleurs hyperparamètres"
      ],
      "metadata": {
        "id": "_wo04BC-cVvn"
      },
      "execution_count": null,
      "outputs": []
    },
    {
      "cell_type": "code",
      "source": [
        "from sklearn.metrics import accuracy_score # pour calculer la performance\n",
        "\n",
        "y_pred = clf_rf.predict(X_test) # prédictions à partir du modèle sur les données test\n",
        "accuracy_score(y_test, y_pred)"
      ],
      "metadata": {
        "id": "9TA4HMSmgGgQ",
        "colab": {
          "base_uri": "https://localhost:8080/"
        },
        "outputId": "d7974939-0dec-42d5-b519-1247e7ae92ae"
      },
      "execution_count": null,
      "outputs": [
        {
          "output_type": "execute_result",
          "data": {
            "text/plain": [
              "0.48"
            ]
          },
          "metadata": {},
          "execution_count": 10
        }
      ]
    },
    {
      "cell_type": "markdown",
      "source": [
        "# <img align=\"center\" src=\"https://drive.google.com/uc?export=view&id=1HjAM7KY8wrX73rl0F_aOnK5Z-vwwsCrX\" alt=\"drawing\" width=\"100\"/> **<font color = \"3832ba\" face=\"Times New Roman\" size=6>Modèle bayésien</font>**"
      ],
      "metadata": {
        "id": "zqZyDkurnn6r"
      }
    },
    {
      "cell_type": "markdown",
      "source": [
        "## <img align=\"center\" src=\"https://drive.google.com/uc?export=view&id=1HjAM7KY8wrX73rl0F_aOnK5Z-vwwsCrX\" alt=\"drawing\" width=\"100\"/> <font color = \"3832ba\" face=\"Times New Roman\" size=6>Entraînement et choix hyperparamètres</font>"
      ],
      "metadata": {
        "id": "1CYhTVtonn62"
      }
    },
    {
      "cell_type": "markdown",
      "source": [
        "\n",
        "\n",
        "> Comme les attributs sont numériques, on va utiliser le modèle de Bayes Gaussien. Pour ce modèle, nous allons considérer les hyperparamètres par défaut. Toutefois, vous pouvez vous inspirer de ce qui a été fait dans les forêts aléatoires si vous voulez tester d'autres valeurs d'hyperparamètres. \n"
      ],
      "metadata": {
        "id": "SgrCokCenn63"
      }
    },
    {
      "cell_type": "code",
      "source": [
        "from sklearn.naive_bayes import GaussianNB # librairie pour le modèle de Bayes Gaussien.\n",
        "\n",
        "clf_gnb = GaussianNB() \n",
        "\n",
        "clf_gnb.fit(X_train, y_train)"
      ],
      "metadata": {
        "colab": {
          "base_uri": "https://localhost:8080/"
        },
        "id": "hbDq2RUann63",
        "outputId": "7498a435-0d9b-4ce4-b7e5-0505dd4328d0"
      },
      "execution_count": null,
      "outputs": [
        {
          "output_type": "execute_result",
          "data": {
            "text/plain": [
              "GaussianNB()"
            ]
          },
          "metadata": {},
          "execution_count": 11
        }
      ]
    },
    {
      "cell_type": "markdown",
      "source": [
        "## <img align=\"center\" src=\"https://drive.google.com/uc?export=view&id=1HjAM7KY8wrX73rl0F_aOnK5Z-vwwsCrX\" alt=\"drawing\" width=\"100\"/> <font color = \"3832ba\" face=\"Times New Roman\" size=6>Évaluation</font>"
      ],
      "metadata": {
        "id": "bUUIWjKInn64"
      }
    },
    {
      "cell_type": "code",
      "source": [
        "y_pred = clf_gnb.predict(X_test) # prédictions à partir du modèle sur les données test\n",
        "accuracy_score(y_test, y_pred)"
      ],
      "metadata": {
        "colab": {
          "base_uri": "https://localhost:8080/"
        },
        "outputId": "ea8394e1-2714-4415-8fd7-20544dae5097",
        "id": "m3iVLysonn64"
      },
      "execution_count": null,
      "outputs": [
        {
          "output_type": "execute_result",
          "data": {
            "text/plain": [
              "0.48"
            ]
          },
          "metadata": {},
          "execution_count": 12
        }
      ]
    },
    {
      "cell_type": "markdown",
      "source": [
        "# <img align=\"center\" src=\"https://drive.google.com/uc?export=view&id=1HjAM7KY8wrX73rl0F_aOnK5Z-vwwsCrX\" alt=\"drawing\" width=\"100\"/> **<font color = \"3832ba\" face=\"Times New Roman\" size=6>SVM</font>**"
      ],
      "metadata": {
        "id": "Q8cZ_BiMLSxX"
      }
    },
    {
      "cell_type": "markdown",
      "source": [
        "## <img align=\"center\" src=\"https://drive.google.com/uc?export=view&id=1HjAM7KY8wrX73rl0F_aOnK5Z-vwwsCrX\" alt=\"drawing\" width=\"100\"/> <font color = \"3832ba\" face=\"Times New Roman\" size=6>Entraînement et choix hyperparamètres</font>"
      ],
      "metadata": {
        "id": "rmkY_X1oLSxt"
      }
    },
    {
      "cell_type": "markdown",
      "source": [
        "\n",
        "\n",
        "> Pour le choix des hyperparamètres, on va aussi tester avec GridSearchCV :\n",
        "* 4 noyaux différents : « linear » (linéaire), « poly » (polynomiale), « sigmoid », « rbf » (gaussien).  \n",
        "\n"
      ],
      "metadata": {
        "id": "vvZlmaV6LSxu"
      }
    },
    {
      "cell_type": "code",
      "source": [
        "from sklearn import svm # librairie pour le svm\n",
        "\n",
        "clf_svm = svm.SVC(random_state=0) # Avec SVM, on peut faire la classification (SVC) ou la régression (SVR)\n",
        "\n",
        "param_grid_svm = {\"kernel\": [\"linear\", \"poly\", \"sigmoid\", \"rbf\"]}\n",
        "\n",
        "grid_search_svm = GridSearchCV(clf_svm, param_grid_svm, cv=5).fit(X_train, y_train)"
      ],
      "metadata": {
        "id": "lpb38rIkLSxu"
      },
      "execution_count": null,
      "outputs": []
    },
    {
      "cell_type": "code",
      "source": [
        "print('Les meilleurs paramètres sont:\\n %s' % grid_search_svm.best_params_)"
      ],
      "metadata": {
        "colab": {
          "base_uri": "https://localhost:8080/"
        },
        "outputId": "c71e05dd-1a5a-4ac3-f91a-7f188d090b88",
        "id": "i7gLsFVALSxw"
      },
      "execution_count": null,
      "outputs": [
        {
          "output_type": "stream",
          "name": "stdout",
          "text": [
            "Les meilleurs paramètres sont:\n",
            " {'kernel': 'poly'}\n"
          ]
        }
      ]
    },
    {
      "cell_type": "markdown",
      "source": [
        "## <img align=\"center\" src=\"https://drive.google.com/uc?export=view&id=1HjAM7KY8wrX73rl0F_aOnK5Z-vwwsCrX\" alt=\"drawing\" width=\"100\"/> <font color = \"3832ba\" face=\"Times New Roman\" size=6>Évaluation</font>"
      ],
      "metadata": {
        "id": "WstGF8fvLSxx"
      }
    },
    {
      "cell_type": "code",
      "source": [
        "clf_svm = grid_search_svm.best_estimator_ # on prend donc le modèle avec les meilleurs hyperparamètres"
      ],
      "metadata": {
        "id": "-aoCsYP-LSxy"
      },
      "execution_count": null,
      "outputs": []
    },
    {
      "cell_type": "code",
      "source": [
        "y_pred = clf_svm.predict(X_test) # prédictions à partir du modèle sur les données test\n",
        "accuracy_score(y_test, y_pred)"
      ],
      "metadata": {
        "colab": {
          "base_uri": "https://localhost:8080/"
        },
        "outputId": "3e6d5547-1993-4f17-fea8-78fa7c58d6e1",
        "id": "Qm_UYRSKLSxz"
      },
      "execution_count": null,
      "outputs": [
        {
          "output_type": "execute_result",
          "data": {
            "text/plain": [
              "0.5"
            ]
          },
          "metadata": {},
          "execution_count": 16
        }
      ]
    },
    {
      "cell_type": "markdown",
      "source": [
        "# <img align=\"center\" src=\"https://drive.google.com/uc?export=view&id=1HjAM7KY8wrX73rl0F_aOnK5Z-vwwsCrX\" alt=\"drawing\" width=\"100\"/> **<font color = \"3832ba\" face=\"Times New Roman\" size=6>Récapitulatif de tous les modèles</font>**"
      ],
      "metadata": {
        "id": "KOPaXbpiNira"
      }
    },
    {
      "cell_type": "markdown",
      "source": [
        "![performances.png](data:image/png;base64,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)"
      ],
      "metadata": {
        "id": "afcLD_bSY0jr"
      }
    },
    {
      "cell_type": "markdown",
      "source": [
        "# <img align=\"center\" src=\"https://drive.google.com/uc?export=view&id=1HjAM7KY8wrX73rl0F_aOnK5Z-vwwsCrX\" alt=\"drawing\" width=\"100\"/> **<font color = \"3832ba\" face=\"Times New Roman\" size=6>Références</font>**\n",
        "\n",
        "\n",
        "1.   https://scikit-learn.org/stable/modules/generated/sklearn.ensemble.RandomForestClassifier.html\n",
        "2.   https://scikit-learn.org/stable/modules/naive_bayes.html\n",
        "3.   https://scikit-learn.org/stable/modules/svm.html\n",
        "4.   https://scikit-learn.org/stable/modules/neural_networks_supervised.html\n",
        "5.   https://scikit-learn.org/stable/modules/generated/sklearn.model_selection.GridSearchCV.html\n",
        "\n",
        "\n",
        "\n"
      ],
      "metadata": {
        "id": "NbTZLD12eq75"
      }
    }
  ]
}