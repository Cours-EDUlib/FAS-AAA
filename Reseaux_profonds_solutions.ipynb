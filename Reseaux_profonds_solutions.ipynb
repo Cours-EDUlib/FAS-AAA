{
  "cells": [
    {
      "cell_type": "markdown",
      "metadata": {
        "id": "Hj5VeHlOwKku"
      },
      "source": [
        "<img align=\"left\" src=\"https://drive.google.com/uc?export=view&id=1orv1XTixxkcGADz18uSwN_5kCtd1yM7q\" alt=\"drawing\" width=\"100%\"/>"
      ]
    },
    {
      "cell_type": "markdown",
      "metadata": {
        "id": "7zRKeySGwYn_"
      },
      "source": [
        "<img align=\"left\" src=\"https://drive.google.com/uc?id=1dUhDyLOrHHP0ghjdb2ZhvyQZ0ZpcmoIm\" alt=\"drawing\" width=\"200\"/> **<font color = 2b2b99 face=\"Times New Roman\" size=7>Les réseaux de neurones profonds (solutions)</font>**"
      ]
    },
    {
      "cell_type": "code",
      "execution_count": null,
      "metadata": {
        "cellView": "form",
        "colab": {
          "base_uri": "https://localhost:8080/"
        },
        "id": "9z8TwK7EzWm0",
        "outputId": "58f66a57-3c32-4053-825b-d6c564013b29"
      },
      "outputs": [
        {
          "name": "stdout",
          "output_type": "stream",
          "text": [
            "Le calepin est prêt à être utilisé.\n",
            "Si vous voyez un message de 'crash' en bas à gauche, c'est normal. \n"
          ]
        }
      ],
      "source": [
        "#@markdown ### <font size=6 color='Red' face = \"Times New Roman\"> &nwarr;Exécutez cette cellule avant de débuter.</font>\n",
        "#@markdown ### <font size=4 color='Red' face = \"Times New Roman\"> Ceci prend environ 2 minutes.</font>\n",
        "\n",
        "# NE PAS TOUCHER À CETTE CELLULE\n",
        "# Cette cellule installe les bibliothèques nécessaires pour que le calepin fonctionne.\n",
        "# ici on spécifie les versions des bibliothèques\n",
        "!pip install -q numpy==1.21.5 &> /dev/null #cache les erreurs de dépendance de numpy pour des packages qu'on n'utilise pas\n",
        "!pip install -q pandas==1.3.5 &> /dev/null\n",
        "!pip install -q matplotlib==3.2.2 &> /dev/null\n",
        "!pip install -q torch==1.7.0 &> /dev/null\n",
        "!pip install -q torchtext==0.8.0 &> /dev/null\n",
        "!pip install -q torchvision==0.8.0 &> /dev/null\n",
        "!pip install -q tensorboard==2.2.1 &> /dev/null\n",
        "!pip install -q pytorch-lightning==1.1.0 &> /dev/null\n",
        "\n",
        "# # Il faut repartir le kernel\n",
        "import warnings\n",
        "import sys\n",
        "with warnings.catch_warnings():\n",
        "    print(\"Le calepin est prêt à être utilisé.\")\n",
        "    print(\"Si vous voyez un message de 'crash' en bas à gauche, c'est normal. \")\n",
        "    exit()"
      ]
    },
    {
      "cell_type": "markdown",
      "metadata": {
        "id": "T1_KJaopBleB"
      },
      "source": [
        "# <img align=\"center\" src=\"https://drive.google.com/uc?export=view&id=1HjAM7KY8wrX73rl0F_aOnK5Z-vwwsCrX\" alt=\"drawing\" width=\"100\"/> **<font color = \"3832ba\" face=\"Times New Roman\" size=6>Initialisation</font>**"
      ]
    },
    {
      "cell_type": "code",
      "execution_count": null,
      "metadata": {
        "id": "z5o6PHYXhKEM"
      },
      "outputs": [],
      "source": [
        "# Importer les modules.\n",
        "import torch\n",
        "import torchvision\n",
        "import torch.nn as nn\n",
        "import torch.nn.functional as F\n",
        "import matplotlib.pyplot as plt\n",
        "import torch.optim as optim\n",
        "from torchvision.transforms import ToTensor\n",
        "import torchvision.transforms as transforms"
      ]
    },
    {
      "cell_type": "markdown",
      "metadata": {
        "id": "g-gPQYumE2ua"
      },
      "source": [
        "Nous travaillerons tout d'abord avec le jeu de données classique MNIST qui contient des images 28x28 de chiffres manuscrits. Il est possible de télécharger les ensembles d'entraînement et d'évaluation directement en utilisant PyTorch, mais nous devons les séparer nous-mêmes."
      ]
    },
    {
      "cell_type": "code",
      "execution_count": null,
      "metadata": {
        "id": "8cDSfbFMhQHE"
      },
      "outputs": [],
      "source": [
        "# Télécharger le jeu de données MNIST.\n",
        "dataset = torchvision.datasets.MNIST(root='./data', train=True, download=True, transform=ToTensor())\n",
        "train_data, valid_data = torch.utils.data.random_split(dataset, [57000, 3000])\n",
        "test_data = torchvision.datasets.MNIST(root='./data', train=False, download=True, transform=ToTensor())"
      ]
    },
    {
      "cell_type": "code",
      "execution_count": null,
      "metadata": {
        "id": "B2Ucbfmqlatj"
      },
      "outputs": [],
      "source": [
        "# On met nos données dans des DataLoaders.\n",
        "BATCH_SIZE = 20\n",
        "\n",
        "train_loader = torch.utils.data.DataLoader(train_data, batch_size=BATCH_SIZE, shuffle=True)\n",
        "valid_loader = torch.utils.data.DataLoader(valid_data, batch_size=BATCH_SIZE, shuffle=True)\n",
        "test_loader = torch.utils.data.DataLoader(test_data, batch_size=BATCH_SIZE, shuffle=True)"
      ]
    },
    {
      "cell_type": "markdown",
      "metadata": {
        "id": "A7z72S3fA4Bl"
      },
      "source": [
        "# <img align=\"center\" src=\"https://drive.google.com/uc?export=view&id=1HjAM7KY8wrX73rl0F_aOnK5Z-vwwsCrX\" alt=\"drawing\" width=\"100\"/> **<font color = \"3832ba\" face=\"Times New Roman\" size=6>Exploration de données MNIST</font>**"
      ]
    },
    {
      "cell_type": "code",
      "execution_count": null,
      "metadata": {
        "colab": {
          "base_uri": "https://localhost:8080/",
          "height": 69
        },
        "id": "ryA5r4FnDKje",
        "outputId": "1eec1b76-8362-4e9f-d75a-fda9c158cec1"
      },
      "outputs": [
        {
          "name": "stdout",
          "output_type": "stream",
          "text": [
            "<class 'list'> 2\n",
            "torch.Size([20, 1, 28, 28])\n",
            "torch.Size([20])\n"
          ]
        }
      ],
      "source": [
        "# On examine la forme des données des images.\n",
        "for data in train_loader:\n",
        "    print(type(data), len(data))\n",
        "    X, y = data\n",
        "    print(X.shape)\n",
        "    print(y.shape)\n",
        "    break"
      ]
    },
    {
      "cell_type": "markdown",
      "metadata": {
        "id": "_93kPXvcDyJ4"
      },
      "source": [
        "Ainsi, chaque élément `data` du `train_loader` est une liste avec deux (2) éléments, nommés `X` et `y`. `X` est une matrice de 20 images, une (1) « chaîne » de couleur, et 28x28 pixels. `y` indique tout simplement le chiffre correspondant à chacune des 20 images."
      ]
    },
    {
      "cell_type": "code",
      "execution_count": null,
      "metadata": {
        "colab": {
          "base_uri": "https://localhost:8080/",
          "height": 813
        },
        "id": "NIHSrHmCB1h9",
        "outputId": "84a9f75d-b0a4-4224-b415-3415b2f47f7e"
      },
      "outputs": [
        {
          "name": "stdout",
          "output_type": "stream",
          "text": [
            "tensor(6)\n"
          ]
        },
        {
          "data": {
            "image/png": "[encoded data removed]",
            "text/plain": [
              "<Figure size 432x288 with 1 Axes>"
            ]
          },
          "metadata": {
            "needs_background": "light"
          },
          "output_type": "display_data"
        },
        {
          "name": "stdout",
          "output_type": "stream",
          "text": [
            "tensor(0)\n"
          ]
        },
        {
          "data": {
            "image/png": "[encoded data removed]",
            "text/plain": [
              "<Figure size 432x288 with 1 Axes>"
            ]
          },
          "metadata": {
            "needs_background": "light"
          },
          "output_type": "display_data"
        },
        {
          "name": "stdout",
          "output_type": "stream",
          "text": [
            "tensor(5)\n"
          ]
        },
        {
          "data": {
            "image/png": "[encoded data removed]",
            "text/plain": [
              "<Figure size 432x288 with 1 Axes>"
            ]
          },
          "metadata": {
            "needs_background": "light"
          },
          "output_type": "display_data"
        }
      ],
      "source": [
        "# On visualise quelques chiffres manuscrits.\n",
        "for data in train_loader:\n",
        "    X, y = data\n",
        "    images = X\n",
        "    for i in range(3):\n",
        "        print(y[i])\n",
        "        plt.imshow(images[i].reshape(28,28))\n",
        "        plt.show()\n",
        "    break"
      ]
    },
    {
      "cell_type": "markdown",
      "metadata": {
        "id": "uCk_9aP5A-Ve"
      },
      "source": [
        "# <img align=\"center\" src=\"https://drive.google.com/uc?export=view&id=1HjAM7KY8wrX73rl0F_aOnK5Z-vwwsCrX\" alt=\"drawing\" width=\"100\"/> **<font color = \"3832ba\" face=\"Times New Roman\" size=6>Définition de modèles initiaux et d'entraînement</font>**"
      ]
    },
    {
      "cell_type": "markdown",
      "metadata": {
        "id": "wKdhX7YgTikd"
      },
      "source": [
        "Pour commencer, nous allons utiliser le modèle le plus simple : un réseau de neurone (classique) avec une seule couche connectée. Le modèle prend comme hyperparamètre la taille de la couche cachée."
      ]
    },
    {
      "cell_type": "markdown",
      "metadata": {
        "id": "rzRRa0HMFEme"
      },
      "source": [
        "Avec la librairie PyTorch, on définit notre modèle sous forme de classe Python (qui hérite de la classe `nn.Module`). On ajoute des couches dans la méthode `__init__()` en utilisant les fonctions fournies par PyTorch telle que `nn.Linear` (pour une couche entièrement connectée) et, enfin, dans la méthode `forward()`, on fait passer nos données à travers toutes les couches."
      ]
    },
    {
      "cell_type": "code",
      "execution_count": null,
      "metadata": {
        "id": "-LLytdlwVxym"
      },
      "outputs": [],
      "source": [
        "class SingleLayerNN(nn.Module):\n",
        "    def __init__(self, hidden_size):\n",
        "        super().__init__()\n",
        "        self.linear_in = nn.Linear(28*28, hidden_size)\n",
        "        self.linear_out = nn.Linear(hidden_size, 10)\n",
        "\n",
        "    def forward(self, x):\n",
        "        x = self.linear_in(x)\n",
        "        x = self.linear_out(x)\n",
        "        return F.log_softmax(x, dim=1)"
      ]
    },
    {
      "cell_type": "markdown",
      "metadata": {
        "id": "SuXQ8HX7GEAZ"
      },
      "source": [
        "Pour l'entraînement du modèle, il faut instancier le modèle lui-même, un critère d'optimisation (fonction de perte) et un algorithme d'optimisation (tel que la descente de gradient stochastique, soit SGD)."
      ]
    },
    {
      "cell_type": "markdown",
      "metadata": {
        "id": "cCD-_tOyeSKy"
      },
      "source": [
        "Avant de commencer, assurez-vous d'avoir mis votre notebook Colab en mode GPU, ce qui accélère énormément l'entraînement.\n",
        "\n",
        "*Edit > Notebook Settings > Hardware Accelerator > Choisir l'option « GPU »*\n"
      ]
    },
    {
      "cell_type": "code",
      "execution_count": null,
      "metadata": {
        "id": "Pp9hHOTdkD-x"
      },
      "outputs": [],
      "source": [
        "device = torch.device(\"cuda:0\" if torch.cuda.is_available() else \"cpu\")\n",
        "\n",
        "model = SingleLayerNN(hidden_size=64)\n",
        "model.to(device)\n",
        "criterion = nn.CrossEntropyLoss()\n",
        "optimizer = optim.SGD(model.parameters(), lr=0.001)"
      ]
    },
    {
      "cell_type": "markdown",
      "metadata": {
        "id": "XHP4HCseGodB"
      },
      "source": [
        "Il est également possible de définir certains hyperparamètres, comme le nombre d'itérations, à travers l'ensemble des données. Nous désirons aussi sauvegarder la perte sur l'ensemble d'entraînement **et** sur l'ensemble de validation après chaque itération, donc des variables ont été initialisées ici à cet effet."
      ]
    },
    {
      "cell_type": "code",
      "execution_count": null,
      "metadata": {
        "id": "1BplrgCXGljV"
      },
      "outputs": [],
      "source": [
        "N_EPOCHS = 5\n",
        "\n",
        "train_losses = []\n",
        "valid_losses = []"
      ]
    },
    {
      "cell_type": "markdown",
      "metadata": {
        "id": "Onbj5gsKHUUo"
      },
      "source": [
        "Dans chaque *epoch* (itération à travers l'ensemble des données), on fait passer au modèle un lot (*batch*) de données à la fois jusqu'à ce que toutes les données aient été vues.\n",
        "\n",
        "Le processus d'entraînement se passe ainsi :\n",
        "\n",
        "\n",
        "*   On donne un lot de données au modèle.\n",
        "*   La prédiction du modèle est comparée aux vraies valeurs pour produire une valeur de perte (qui est sommée dans une autre variable).\n",
        "*   On rétropropage les gradients par rapport à la perte et on les met à jour avec l'algorithme d'optimisation.\n",
        "\n",
        "Enfin, après chaque *epoch*, on va aussi calculer cette perte, mais sur l'ensemble de validation, ce qui nous permet d'évaluer la capacité de généralisation du modèle.\n"
      ]
    },
    {
      "cell_type": "code",
      "execution_count": null,
      "metadata": {
        "colab": {
          "base_uri": "https://localhost:8080/"
        },
        "id": "qr0Zc3k3HF5X",
        "outputId": "474b9670-7c3d-4ad3-c680-60f301914678"
      },
      "outputs": [
        {
          "name": "stdout",
          "output_type": "stream",
          "text": [
            "Epoch 0:\n",
            "Training loss: 1.7558767790543406\n",
            "Validation loss: 1.270868022441864\n",
            "Epoch 1:\n",
            "Training loss: 0.9703325524037344\n",
            "Validation loss: 0.7919445709387462\n",
            "Epoch 2:\n",
            "Training loss: 0.6764976428057018\n",
            "Validation loss: 0.6224269125858942\n",
            "Epoch 3:\n",
            "Training loss: 0.5560182413772533\n",
            "Validation loss: 0.538919552564621\n",
            "Epoch 4:\n",
            "Training loss: 0.49107870532755266\n",
            "Validation loss: 0.4902314013242722\n"
          ]
        }
      ],
      "source": [
        "def train(cnn=True):\n",
        "    for epoch in range(N_EPOCHS):\n",
        "        current_loss = 0.0\n",
        "        for data in train_loader:\n",
        "            X, y = data\n",
        "            # Mettre les données sur GPU.\n",
        "            X = X.to(device)\n",
        "            y = y.to(device)\n",
        "\n",
        "            # Si le réseau n'est pas convolutionnel, on aplatit les 784 pixels\n",
        "            # dans un image en une dimension.\n",
        "            if not cnn:\n",
        "                X = X.reshape(X.shape[0], -1)\n",
        "\n",
        "            optimizer.zero_grad()\n",
        "            output = model(X)\n",
        "            loss = criterion(output, y)\n",
        "            loss.backward()\n",
        "            optimizer.step()\n",
        "\n",
        "            current_loss += loss.item()\n",
        "        current_loss /= len(train_loader)\n",
        "        train_losses.append(current_loss)\n",
        "\n",
        "        # On imprime les pertes après chaque epoch et on sauvegarde aussi ces valeurs.\n",
        "        print(f\"Epoch {epoch}:\")\n",
        "        print(f\"Training loss: {current_loss}\")\n",
        "        with torch.no_grad():\n",
        "            valid_loss = 0.0\n",
        "            for data in valid_loader:\n",
        "                X, y = data\n",
        "                X = X.to(device)\n",
        "                y = y.to(device)\n",
        "\n",
        "                if not cnn:\n",
        "                    X = X.reshape(X.shape[0], -1)\n",
        "                optimizer.zero_grad()\n",
        "\n",
        "                output = model(X)\n",
        "                loss = criterion(output, y)\n",
        "\n",
        "                valid_loss += loss.item()\n",
        "            valid_loss /= len(valid_loader)\n",
        "        valid_losses.append(valid_loss)\n",
        "        print(f\"Validation loss: {valid_loss}\")\n",
        "\n",
        "train(cnn=False)"
      ]
    },
    {
      "cell_type": "code",
      "execution_count": null,
      "metadata": {
        "colab": {
          "base_uri": "https://localhost:8080/",
          "height": 266
        },
        "id": "u17iJTNamGD_",
        "outputId": "d8c886d2-10e4-4216-d698-d71e41c6ab0e"
      },
      "outputs": [
        {
          "data": {
            "image/png": "[encoded data removed]",
            "text/plain": [
              "<Figure size 432x288 with 1 Axes>"
            ]
          },
          "metadata": {
            "needs_background": "light"
          },
          "output_type": "display_data"
        }
      ],
      "source": [
        "# Graphique des pertes après chaque epoch.\n",
        "plt.plot(train_losses)\n",
        "plt.plot(valid_losses)\n",
        "plt.show()"
      ]
    },
    {
      "cell_type": "code",
      "execution_count": null,
      "metadata": {
        "colab": {
          "base_uri": "https://localhost:8080/"
        },
        "id": "fJJZYHhxmJWf",
        "outputId": "13b5556c-9e69-4a6d-9525-ee959f8e0f6a"
      },
      "outputs": [
        {
          "name": "stdout",
          "output_type": "stream",
          "text": [
            "La précision du modèle final est de 88.5%\n"
          ]
        }
      ],
      "source": [
        "# On calcule la précision du modèle final en utilisant l'ensemble de test.\n",
        "def test(cnn=True):\n",
        "    model.eval()\n",
        "    with torch.no_grad():\n",
        "        correct_predictions = 0\n",
        "        for data in test_loader:\n",
        "            X, y = data\n",
        "            X = X.to(device)\n",
        "            y = y.to(device)\n",
        "\n",
        "            if not cnn:\n",
        "                X = X.reshape(X.shape[0], -1)\n",
        "\n",
        "            output = model(X)\n",
        "            correct_predictions += (y == torch.max(output, 1)[1]).sum()\n",
        "        correct_predictions = int(correct_predictions) / len(test_data) * 100\n",
        "    model.train()\n",
        "    print(f\"La précision du modèle final est de {correct_predictions}%\")\n",
        "\n",
        "test(cnn=False)"
      ]
    },
    {
      "cell_type": "markdown",
      "metadata": {
        "id": "aFknDx02XR9o"
      },
      "source": [
        "On va maintenant utiliser un modèle qui convient mieux aux données d'images : un réseau de neurones convolutionnel (CNN). La procédure d'entraînement est le même, mais on devrait obtenir de meilleurs résultats avec le même nombre d'époques d'entraînement."
      ]
    },
    {
      "cell_type": "code",
      "execution_count": null,
      "metadata": {
        "id": "Nfm1-DLGYUuH"
      },
      "outputs": [],
      "source": [
        "# Deuxième modèle : CNN simple\n",
        "class SimpleCNN(nn.Module):\n",
        "    def __init__(self):\n",
        "        super().__init__()\n",
        "\n",
        "        self.cnn_layers = nn.Sequential(\n",
        "            nn.Conv2d(1, 4, kernel_size=2, stride=1, padding=1),\n",
        "            nn.BatchNorm2d(4),\n",
        "            nn.ReLU(inplace=True),\n",
        "            nn.MaxPool2d(kernel_size=4)\n",
        "        )\n",
        "        self.linear = nn.Linear(4*7*7,10)\n",
        "\n",
        "    def forward(self, x):\n",
        "        x = self.cnn_layers(x)\n",
        "        x = x.reshape(x.size(0), -1)\n",
        "        x = self.linear(x)\n",
        "        return F.log_softmax(x, dim=1)"
      ]
    },
    {
      "cell_type": "code",
      "execution_count": null,
      "metadata": {
        "colab": {
          "base_uri": "https://localhost:8080/"
        },
        "id": "3_pqXuzhYWq8",
        "outputId": "a5d2610b-74bb-449d-9136-eb455b01eb4f"
      },
      "outputs": [
        {
          "name": "stdout",
          "output_type": "stream",
          "text": [
            "Epoch 0:\n",
            "Training loss: 0.8986016043968368\n",
            "Validation loss: 0.5499900609254837\n",
            "Epoch 1:\n",
            "Training loss: 0.4382050721817895\n",
            "Validation loss: 0.4042638477683067\n",
            "Epoch 2:\n",
            "Training loss: 0.34536487820117096\n",
            "Validation loss: 0.3440037141740322\n",
            "Epoch 3:\n",
            "Training loss: 0.2973778756028205\n",
            "Validation loss: 0.3049307235702872\n",
            "Epoch 4:\n",
            "Training loss: 0.2669022177176125\n",
            "Validation loss: 0.276808542261521\n"
          ]
        }
      ],
      "source": [
        "# Entraînement\n",
        "model = SimpleCNN()\n",
        "model.to(device)\n",
        "criterion = nn.CrossEntropyLoss()\n",
        "optimizer = optim.SGD(model.parameters(), lr=0.001)\n",
        "\n",
        "train_losses = []\n",
        "valid_losses = []\n",
        "\n",
        "train()"
      ]
    },
    {
      "cell_type": "code",
      "execution_count": null,
      "metadata": {
        "colab": {
          "base_uri": "https://localhost:8080/",
          "height": 282
        },
        "id": "pU9iuWzkYlAb",
        "outputId": "522c0270-f4f6-41ff-f162-d85f9a72188b"
      },
      "outputs": [
        {
          "data": {
            "image/png": "[encoded data removed]",
            "text/plain": [
              "<Figure size 432x288 with 1 Axes>"
            ]
          },
          "metadata": {
            "needs_background": "light"
          },
          "output_type": "display_data"
        },
        {
          "name": "stdout",
          "output_type": "stream",
          "text": [
            "La précision du modèle final est de 92.93%\n"
          ]
        }
      ],
      "source": [
        "# Évaluation\n",
        "plt.plot(train_losses)\n",
        "plt.plot(valid_losses)\n",
        "plt.show()\n",
        "\n",
        "test()"
      ]
    },
    {
      "cell_type": "markdown",
      "metadata": {
        "id": "EL03ngPsu20s"
      },
      "source": [
        "# <img align=\"center\" src=\"https://drive.google.com/uc?export=view&id=1HjAM7KY8wrX73rl0F_aOnK5Z-vwwsCrX\" alt=\"drawing\" width=\"100\"/> **<font color = \"3832ba\" face=\"Times New Roman\" size=6>Modèle CNN avec données différentes</font>**"
      ]
    },
    {
      "cell_type": "markdown",
      "metadata": {
        "id": "QoWEL1qhRTIZ"
      },
      "source": [
        "Maintenant, avec notre modèle CNN, nous avons eu une précision de plus de 90 % sur les données de test après seulement une minute d'entraînement! Mais, il faut admettre que les chiffres MNIST sont des images plutôt simples. Et si on entraînait ce même modèle sur des images plus complexes?"
      ]
    },
    {
      "cell_type": "code",
      "execution_count": null,
      "metadata": {
        "colab": {
          "base_uri": "https://localhost:8080/",
          "height": 101,
          "referenced_widgets": [
            "06fe44e33aa5459398a8a612ba865400",
            "4ebeb18eca844ebd9a471a495c2d4a0b",
            "e68570be56dd4f5a8d88060cf79baa11",
            "f5dbe4ebaf914b3c87afae8612efd2c5",
            "add460177f514d6aaf4661c60a877974",
            "6cba857f25144fe683b20c47d80870d6",
            "931f2d6a96694a1fa090e445e8f3ce3b",
            "6c8c9958c42c4a45a4d552e04b60582c",
            "06b3f47d52bd45f9963baa4a30ae2b7e",
            "70b41738dd6b4702a39dca33897282a7",
            "9cb252e2c2af41b7962ebf0d19ef1e05"
          ]
        },
        "id": "v_dIRXtQW5TT",
        "outputId": "7db58e6f-19a4-43a4-ce6a-8e8f9cf7f6bb"
      },
      "outputs": [
        {
          "name": "stdout",
          "output_type": "stream",
          "text": [
            "Downloading https://www.cs.toronto.edu/~kriz/cifar-10-python.tar.gz to ./data/cifar-10-python.tar.gz\n"
          ]
        },
        {
          "data": {
            "application/vnd.jupyter.widget-view+json": {
              "model_id": "06fe44e33aa5459398a8a612ba865400",
              "version_major": 2,
              "version_minor": 0
            },
            "text/plain": [
              "0it [00:00, ?it/s]"
            ]
          },
          "metadata": {},
          "output_type": "display_data"
        },
        {
          "name": "stdout",
          "output_type": "stream",
          "text": [
            "Extracting ./data/cifar-10-python.tar.gz to ./data\n",
            "Files already downloaded and verified\n"
          ]
        }
      ],
      "source": [
        "# Télécharger le jeu de données CIFAR-10.\n",
        "\n",
        "transform = transforms.Compose(\n",
        "    [transforms.ToTensor(),\n",
        "     transforms.Normalize(mean=[0.485, 0.456, 0.406],\n",
        "                                 std=[0.229, 0.224, 0.225])\n",
        "     ])\n",
        "\n",
        "batch_size = 4\n",
        "\n",
        "dataset = torchvision.datasets.CIFAR10(root='./data', train=True,\n",
        "                                        download=True, transform=transform)\n",
        "train_data, valid_data = torch.utils.data.random_split(dataset, [45000, 5000])\n",
        "train_loader = torch.utils.data.DataLoader(train_data, batch_size=batch_size,\n",
        "                                          shuffle=True, num_workers=2)\n",
        "valid_loader = torch.utils.data.DataLoader(valid_data, batch_size=batch_size,\n",
        "                                          shuffle=True, num_workers=2)\n",
        "\n",
        "test_data = torchvision.datasets.CIFAR10(root='./data', train=False,\n",
        "                                       download=True, transform=transform)\n",
        "test_loader = torch.utils.data.DataLoader(test_data, batch_size=batch_size,\n",
        "                                         shuffle=False, num_workers=2)"
      ]
    },
    {
      "cell_type": "markdown",
      "metadata": {
        "id": "JKA8nhH91HPt"
      },
      "source": [
        "CIFAR-10 est un ensemble de 60 000 images colorées de 32x32 pixels avec 10 classes d'objets.\n",
        "![cifar10.png](https://drive.google.com/uc?export=view&id=1IlJpZZbm_i9jKQG-BJOoX5b8TaSmUOOE)\n",
        "\n",
        "Source : https://www.cs.toronto.edu/~kriz/cifar.html"
      ]
    },
    {
      "cell_type": "markdown",
      "metadata": {
        "id": "RFseprPX1p0-"
      },
      "source": [
        "Comme avec MNIST, il serait utile de comprendre le format des données."
      ]
    },
    {
      "cell_type": "code",
      "execution_count": null,
      "metadata": {
        "colab": {
          "base_uri": "https://localhost:8080/"
        },
        "id": "Nx8pLuWL12m5",
        "outputId": "5918bf47-c97b-41b9-97ce-ef2989e23de5"
      },
      "outputs": [
        {
          "name": "stdout",
          "output_type": "stream",
          "text": [
            "<class 'list'> 2\n",
            "torch.Size([4, 3, 32, 32])\n",
            "torch.Size([4])\n"
          ]
        }
      ],
      "source": [
        "for data in train_loader:\n",
        "    print(type(data), len(data))\n",
        "    X, y = data\n",
        "    print(X.shape)\n",
        "    print(y.shape)\n",
        "    break"
      ]
    },
    {
      "cell_type": "markdown",
      "metadata": {
        "id": "M4hQv1nf2MN1"
      },
      "source": [
        "Nous allons donc maintenant entraîner notre premier modèle (SimpleCNN) avec ces données CIFAR-10. Le code d'entraînement est le même, mais il faut faire quelques modifications au modèle pour prendre en compte la taille des nouvelles données."
      ]
    },
    {
      "cell_type": "code",
      "execution_count": null,
      "metadata": {
        "colab": {
          "base_uri": "https://localhost:8080/",
          "height": 277
        },
        "id": "UyyOd5RFRh_d",
        "outputId": "08b93d91-ec1a-4f2b-bb3d-f95d5d20a6c6"
      },
      "outputs": [
        {
          "name": "stdout",
          "output_type": "stream",
          "text": [
            "Epoch 0:\n",
            "Training loss: 1.8119422411945132\n",
            "Validation loss: 1.6770988750934601\n",
            "Epoch 1:\n",
            "Training loss: 1.6082456102079816\n",
            "Validation loss: 1.6107928565263747\n",
            "Epoch 2:\n",
            "Training loss: 1.5588551909605661\n",
            "Validation loss: 1.568050538110733\n",
            "Epoch 3:\n",
            "Training loss: 1.527106058910158\n",
            "Validation loss: 1.5425942437529563\n",
            "Epoch 4:\n",
            "Training loss: 1.509767417436176\n",
            "Validation loss: 1.5273861345529556\n"
          ]
        }
      ],
      "source": [
        "# Même modèle qu'avant, mais on ajuste certains paramètres pour assurer que les\n",
        "# tailles correspondent à CIFAR-10 (3x32x32 au lieu de 1x28x28).\n",
        "model = SimpleCNN()\n",
        "\n",
        "# La couche d'entrée prend « 3 chaînes » de couleurs (RGB) à la place d'une (1) seule (noir et blanc).\n",
        "model.cnn_layers[0] = nn.Conv2d(3, 4, kernel_size=2, stride=1, padding=1)\n",
        "\n",
        "# Chaque image est un peu plus grande (32x32 au lieu de 28x28).\n",
        "# Donc, la taille de sortie des couches CNN est un peu plus grande aussi.\n",
        "model.linear = nn.Linear(256,10)\n",
        "\n",
        "model.to(device)\n",
        "optimizer = optim.SGD(model.parameters(), lr=0.001)\n",
        "train_losses = []\n",
        "valid_losses = []\n",
        "\n",
        "train()"
      ]
    },
    {
      "cell_type": "code",
      "execution_count": null,
      "metadata": {
        "colab": {
          "base_uri": "https://localhost:8080/",
          "height": 282
        },
        "id": "RUxpgztfrGWM",
        "outputId": "2d245cd2-32c9-4d3c-be8b-405f1e3404d4"
      },
      "outputs": [
        {
          "data": {
            "image/png": "[encoded data removed]",
            "text/plain": [
              "<Figure size 432x288 with 1 Axes>"
            ]
          },
          "metadata": {
            "needs_background": "light"
          },
          "output_type": "display_data"
        },
        {
          "name": "stdout",
          "output_type": "stream",
          "text": [
            "La précision du modèle final est de 49.120000000000005%\n"
          ]
        }
      ],
      "source": [
        "# Évaluation du modèle final.\n",
        "plt.plot(train_losses)\n",
        "plt.plot(valid_losses)\n",
        "plt.show()\n",
        "\n",
        "test()"
      ]
    },
    {
      "cell_type": "markdown",
      "metadata": {
        "id": "F-lORFUSTDV2"
      },
      "source": [
        "Il est maintenant clair que notre modèle initial avec une seule couche convolutionnelle n'est plus suffisant face à ces nouvelles données! Ceci malgré le fait que cet entraînement a dû prendre notamment plus de temps que les cas précédents."
      ]
    },
    {
      "cell_type": "markdown",
      "metadata": {
        "id": "O7sBbyu5u-w2"
      },
      "source": [
        "# <img align=\"center\" src=\"https://drive.google.com/uc?export=view&id=1HjAM7KY8wrX73rl0F_aOnK5Z-vwwsCrX\" alt=\"drawing\" width=\"100\"/> **<font color = \"3832ba\" face=\"Times New Roman\" size=6>Modèle préentraîné</font>**"
      ]
    },
    {
      "cell_type": "markdown",
      "metadata": {
        "id": "Goz8rJLuTV5r"
      },
      "source": [
        "En pratique, on a souvent recours aux modèles préentraînés : on télécharge les poids d'un modèle (complexe) qui a déjà été entraîné sur nos données (ou souvent sur des données différentes)."
      ]
    },
    {
      "cell_type": "markdown",
      "metadata": {
        "id": "QllDQigutG6V"
      },
      "source": [
        "## <img align=\"center\" src=\"https://drive.google.com/uc?export=view&id=1HjAM7KY8wrX73rl0F_aOnK5Z-vwwsCrX\" alt=\"drawing\" width=\"100\"/> <font color = \"3832ba\" face=\"Times New Roman\" size=5>Code pour télécharger le modèle préentraîné (pas besoin de lire cette partie)</font>"
      ]
    },
    {
      "cell_type": "markdown",
      "metadata": {
        "id": "PbQZ3n2ys4F-"
      },
      "source": [
        "Source : https://github.com/huyvnphan/PyTorch_CIFAR10"
      ]
    },
    {
      "cell_type": "code",
      "execution_count": null,
      "metadata": {
        "colab": {
          "base_uri": "https://localhost:8080/"
        },
        "id": "nNuWpUu_v2Qj",
        "outputId": "128f0fd4-8c93-4101-9549-4bafdad1baf8"
      },
      "outputs": [
        {
          "name": "stdout",
          "output_type": "stream",
          "text": [
            "Archive:  master.zip\n",
            "641cac24371b17052b9bb6e56af1c83b5e97cd7f\n",
            "   creating: PyTorch_CIFAR10-master/\n",
            "  inflating: PyTorch_CIFAR10-master/.gitignore  \n",
            "  inflating: PyTorch_CIFAR10-master/LICENSE  \n",
            "  inflating: PyTorch_CIFAR10-master/README.md  \n",
            "   creating: PyTorch_CIFAR10-master/cifar10_models/\n",
            "  inflating: PyTorch_CIFAR10-master/cifar10_models/densenet.py  \n",
            "  inflating: PyTorch_CIFAR10-master/cifar10_models/googlenet.py  \n",
            "  inflating: PyTorch_CIFAR10-master/cifar10_models/inception.py  \n",
            "  inflating: PyTorch_CIFAR10-master/cifar10_models/mobilenetv2.py  \n",
            "  inflating: PyTorch_CIFAR10-master/cifar10_models/resnet.py  \n",
            "  inflating: PyTorch_CIFAR10-master/cifar10_models/resnet_orig.py  \n",
            "  inflating: PyTorch_CIFAR10-master/cifar10_models/vgg.py  \n",
            "  inflating: PyTorch_CIFAR10-master/data.py  \n",
            "  inflating: PyTorch_CIFAR10-master/module.py  \n",
            "  inflating: PyTorch_CIFAR10-master/schduler.py  \n",
            "  inflating: PyTorch_CIFAR10-master/train.py  \n",
            "renamed 'PyTorch_CIFAR10-master/cifar10_models' -> './cifar10_models'\n",
            "renamed 'PyTorch_CIFAR10-master/data.py' -> './data.py'\n",
            "renamed 'PyTorch_CIFAR10-master/LICENSE' -> './LICENSE'\n",
            "renamed 'PyTorch_CIFAR10-master/module.py' -> './module.py'\n",
            "renamed 'PyTorch_CIFAR10-master/README.md' -> './README.md'\n",
            "renamed 'PyTorch_CIFAR10-master/schduler.py' -> './schduler.py'\n",
            "renamed 'PyTorch_CIFAR10-master/train.py' -> './train.py'\n"
          ]
        }
      ],
      "source": [
        "!curl -sLS https://github.com/huyvnphan/PyTorch_CIFAR10/archive/refs/heads/master.zip > master.zip\n",
        "!unzip master.zip\n",
        "!rm master.zip\n",
        "!mv -v PyTorch_CIFAR10-master/* ./\n",
        "!rm -rf PyTorch_CIFAR10-master/"
      ]
    },
    {
      "cell_type": "code",
      "execution_count": null,
      "metadata": {
        "colab": {
          "base_uri": "https://localhost:8080/"
        },
        "id": "Jpb3r0a9xvBH",
        "outputId": "446f7327-8ed7-4565-b598-6e65c89413b1"
      },
      "outputs": [
        {
          "name": "stderr",
          "output_type": "stream",
          "text": [
            "100%|██████████| 979M/979M [00:46<00:00, 21.0MMiB/s]\n"
          ]
        },
        {
          "name": "stdout",
          "output_type": "stream",
          "text": [
            "Download successful. Unzipping file...\n",
            "Unzip file successful!\n"
          ]
        }
      ],
      "source": [
        "from data import CIFAR10Data\n",
        "CIFAR10Data.download_weights()"
      ]
    },
    {
      "cell_type": "markdown",
      "metadata": {
        "id": "A6P6EH7puez3"
      },
      "source": [
        "## <img align=\"center\" src=\"https://drive.google.com/uc?export=view&id=1HjAM7KY8wrX73rl0F_aOnK5Z-vwwsCrX\" alt=\"drawing\" width=\"100\"/> <font color = \"3832ba\" face=\"Times New Roman\" size=5>Utiliser le modèle préentraîné</font>"
      ]
    },
    {
      "cell_type": "code",
      "execution_count": null,
      "metadata": {
        "colab": {
          "base_uri": "https://localhost:8080/"
        },
        "id": "l9prtS-Gsz8G",
        "outputId": "2c685277-3ffa-46db-8ed1-edd17d133eac"
      },
      "outputs": [
        {
          "data": {
            "text/plain": [
              "VGG(\n",
              "  (features): Sequential(\n",
              "    (0): Conv2d(3, 64, kernel_size=(3, 3), stride=(1, 1), padding=(1, 1))\n",
              "    (1): BatchNorm2d(64, eps=1e-05, momentum=0.1, affine=True, track_running_stats=True)\n",
              "    (2): ReLU(inplace=True)\n",
              "    (3): Conv2d(64, 64, kernel_size=(3, 3), stride=(1, 1), padding=(1, 1))\n",
              "    (4): BatchNorm2d(64, eps=1e-05, momentum=0.1, affine=True, track_running_stats=True)\n",
              "    (5): ReLU(inplace=True)\n",
              "    (6): MaxPool2d(kernel_size=2, stride=2, padding=0, dilation=1, ceil_mode=False)\n",
              "    (7): Conv2d(64, 128, kernel_size=(3, 3), stride=(1, 1), padding=(1, 1))\n",
              "    (8): BatchNorm2d(128, eps=1e-05, momentum=0.1, affine=True, track_running_stats=True)\n",
              "    (9): ReLU(inplace=True)\n",
              "    (10): Conv2d(128, 128, kernel_size=(3, 3), stride=(1, 1), padding=(1, 1))\n",
              "    (11): BatchNorm2d(128, eps=1e-05, momentum=0.1, affine=True, track_running_stats=True)\n",
              "    (12): ReLU(inplace=True)\n",
              "    (13): MaxPool2d(kernel_size=2, stride=2, padding=0, dilation=1, ceil_mode=False)\n",
              "    (14): Conv2d(128, 256, kernel_size=(3, 3), stride=(1, 1), padding=(1, 1))\n",
              "    (15): BatchNorm2d(256, eps=1e-05, momentum=0.1, affine=True, track_running_stats=True)\n",
              "    (16): ReLU(inplace=True)\n",
              "    (17): Conv2d(256, 256, kernel_size=(3, 3), stride=(1, 1), padding=(1, 1))\n",
              "    (18): BatchNorm2d(256, eps=1e-05, momentum=0.1, affine=True, track_running_stats=True)\n",
              "    (19): ReLU(inplace=True)\n",
              "    (20): Conv2d(256, 256, kernel_size=(3, 3), stride=(1, 1), padding=(1, 1))\n",
              "    (21): BatchNorm2d(256, eps=1e-05, momentum=0.1, affine=True, track_running_stats=True)\n",
              "    (22): ReLU(inplace=True)\n",
              "    (23): Conv2d(256, 256, kernel_size=(3, 3), stride=(1, 1), padding=(1, 1))\n",
              "    (24): BatchNorm2d(256, eps=1e-05, momentum=0.1, affine=True, track_running_stats=True)\n",
              "    (25): ReLU(inplace=True)\n",
              "    (26): MaxPool2d(kernel_size=2, stride=2, padding=0, dilation=1, ceil_mode=False)\n",
              "    (27): Conv2d(256, 512, kernel_size=(3, 3), stride=(1, 1), padding=(1, 1))\n",
              "    (28): BatchNorm2d(512, eps=1e-05, momentum=0.1, affine=True, track_running_stats=True)\n",
              "    (29): ReLU(inplace=True)\n",
              "    (30): Conv2d(512, 512, kernel_size=(3, 3), stride=(1, 1), padding=(1, 1))\n",
              "    (31): BatchNorm2d(512, eps=1e-05, momentum=0.1, affine=True, track_running_stats=True)\n",
              "    (32): ReLU(inplace=True)\n",
              "    (33): Conv2d(512, 512, kernel_size=(3, 3), stride=(1, 1), padding=(1, 1))\n",
              "    (34): BatchNorm2d(512, eps=1e-05, momentum=0.1, affine=True, track_running_stats=True)\n",
              "    (35): ReLU(inplace=True)\n",
              "    (36): Conv2d(512, 512, kernel_size=(3, 3), stride=(1, 1), padding=(1, 1))\n",
              "    (37): BatchNorm2d(512, eps=1e-05, momentum=0.1, affine=True, track_running_stats=True)\n",
              "    (38): ReLU(inplace=True)\n",
              "    (39): MaxPool2d(kernel_size=2, stride=2, padding=0, dilation=1, ceil_mode=False)\n",
              "    (40): Conv2d(512, 512, kernel_size=(3, 3), stride=(1, 1), padding=(1, 1))\n",
              "    (41): BatchNorm2d(512, eps=1e-05, momentum=0.1, affine=True, track_running_stats=True)\n",
              "    (42): ReLU(inplace=True)\n",
              "    (43): Conv2d(512, 512, kernel_size=(3, 3), stride=(1, 1), padding=(1, 1))\n",
              "    (44): BatchNorm2d(512, eps=1e-05, momentum=0.1, affine=True, track_running_stats=True)\n",
              "    (45): ReLU(inplace=True)\n",
              "    (46): Conv2d(512, 512, kernel_size=(3, 3), stride=(1, 1), padding=(1, 1))\n",
              "    (47): BatchNorm2d(512, eps=1e-05, momentum=0.1, affine=True, track_running_stats=True)\n",
              "    (48): ReLU(inplace=True)\n",
              "    (49): Conv2d(512, 512, kernel_size=(3, 3), stride=(1, 1), padding=(1, 1))\n",
              "    (50): BatchNorm2d(512, eps=1e-05, momentum=0.1, affine=True, track_running_stats=True)\n",
              "    (51): ReLU(inplace=True)\n",
              "    (52): MaxPool2d(kernel_size=2, stride=2, padding=0, dilation=1, ceil_mode=False)\n",
              "  )\n",
              "  (avgpool): AdaptiveAvgPool2d(output_size=(1, 1))\n",
              "  (classifier): Sequential(\n",
              "    (0): Linear(in_features=512, out_features=4096, bias=True)\n",
              "    (1): ReLU(inplace=True)\n",
              "    (2): Dropout(p=0.5, inplace=False)\n",
              "    (3): Linear(in_features=4096, out_features=4096, bias=True)\n",
              "    (4): ReLU(inplace=True)\n",
              "    (5): Dropout(p=0.5, inplace=False)\n",
              "    (6): Linear(in_features=4096, out_features=10, bias=True)\n",
              "  )\n",
              ")"
            ]
          },
          "execution_count": 22,
          "metadata": {},
          "output_type": "execute_result"
        }
      ],
      "source": [
        "from cifar10_models.vgg import vgg19_bn\n",
        "model = vgg19_bn(pretrained=True)\n",
        "model.to(device)"
      ]
    },
    {
      "cell_type": "markdown",
      "metadata": {
        "id": "vr0Z-MIc4Jdc"
      },
      "source": [
        "Les poids de ce modèle ont déjà été téléchargés, donc il n'est pas nécessaire d'entraîner ce modèle. Vous pouvez voir l'architecture du modèle en question, VGG19, en faisant [une recherche sur Google](https://www.google.com/search?q=vgg19&tbm=isch)."
      ]
    },
    {
      "cell_type": "code",
      "execution_count": null,
      "metadata": {
        "colab": {
          "base_uri": "https://localhost:8080/"
        },
        "id": "tssm6aY5Y2-z",
        "outputId": "42504bec-6dfc-4b7f-da85-63204a74eebf"
      },
      "outputs": [
        {
          "name": "stdout",
          "output_type": "stream",
          "text": [
            "La précision du modèle final est de 93.63%\n"
          ]
        }
      ],
      "source": [
        "# Évaluation : il n'y a plus de courbe d'entraînement, car on n'a pas entraîné de modèle!\n",
        "test()"
      ]
    },
    {
      "cell_type": "markdown",
      "metadata": {
        "id": "pvf0GXNbTuec"
      },
      "source": [
        "Ce modèle en particulier a été entraîné sur les images CIFAR-10, le même jeu de données que nous avons utilisé. Par contre, il est aussi possible d'utiliser un modèle ayant été préentraîné sur d'autres données différentes, et, ensuite, de l'ajuster pour nos données afin d'obtenir une meilleure performance."
      ]
    }
  ],
  "metadata": {
    "accelerator": "GPU",
    "colab": {
      "collapsed_sections": [],
      "name": "tutoriel_m6_m7_solutions.ipynb",
      "provenance": []
    },
    "kernelspec": {
      "display_name": "Python 3",
      "name": "python3"
    },
    "language_info": {
      "name": "python"
    },
    "widgets": {
      "application/vnd.jupyter.widget-state+json": {
        "06b3f47d52bd45f9963baa4a30ae2b7e": {
          "model_module": "@jupyter-widgets/controls",
          "model_module_version": "1.5.0",
          "model_name": "ProgressStyleModel",
          "state": {
            "_model_module": "@jupyter-widgets/controls",
            "_model_module_version": "1.5.0",
            "_model_name": "ProgressStyleModel",
            "_view_count": null,
            "_view_module": "@jupyter-widgets/base",
            "_view_module_version": "1.2.0",
            "_view_name": "StyleView",
            "bar_color": null,
            "description_width": ""
          }
        },
        "06fe44e33aa5459398a8a612ba865400": {
          "model_module": "@jupyter-widgets/controls",
          "model_module_version": "1.5.0",
          "model_name": "HBoxModel",
          "state": {
            "_dom_classes": [],
            "_model_module": "@jupyter-widgets/controls",
            "_model_module_version": "1.5.0",
            "_model_name": "HBoxModel",
            "_view_count": null,
            "_view_module": "@jupyter-widgets/controls",
            "_view_module_version": "1.5.0",
            "_view_name": "HBoxView",
            "box_style": "",
            "children": [
              "IPY_MODEL_4ebeb18eca844ebd9a471a495c2d4a0b",
              "IPY_MODEL_e68570be56dd4f5a8d88060cf79baa11",
              "IPY_MODEL_f5dbe4ebaf914b3c87afae8612efd2c5"
            ],
            "layout": "IPY_MODEL_add460177f514d6aaf4661c60a877974"
          }
        },
        "4ebeb18eca844ebd9a471a495c2d4a0b": {
          "model_module": "@jupyter-widgets/controls",
          "model_module_version": "1.5.0",
          "model_name": "HTMLModel",
          "state": {
            "_dom_classes": [],
            "_model_module": "@jupyter-widgets/controls",
            "_model_module_version": "1.5.0",
            "_model_name": "HTMLModel",
            "_view_count": null,
            "_view_module": "@jupyter-widgets/controls",
            "_view_module_version": "1.5.0",
            "_view_name": "HTMLView",
            "description": "",
            "description_tooltip": null,
            "layout": "IPY_MODEL_6cba857f25144fe683b20c47d80870d6",
            "placeholder": "​",
            "style": "IPY_MODEL_931f2d6a96694a1fa090e445e8f3ce3b",
            "value": ""
          }
        },
        "6c8c9958c42c4a45a4d552e04b60582c": {
          "model_module": "@jupyter-widgets/base",
          "model_module_version": "1.2.0",
          "model_name": "LayoutModel",
          "state": {
            "_model_module": "@jupyter-widgets/base",
            "_model_module_version": "1.2.0",
            "_model_name": "LayoutModel",
            "_view_count": null,
            "_view_module": "@jupyter-widgets/base",
            "_view_module_version": "1.2.0",
            "_view_name": "LayoutView",
            "align_content": null,
            "align_items": null,
            "align_self": null,
            "border": null,
            "bottom": null,
            "display": null,
            "flex": null,
            "flex_flow": null,
            "grid_area": null,
            "grid_auto_columns": null,
            "grid_auto_flow": null,
            "grid_auto_rows": null,
            "grid_column": null,
            "grid_gap": null,
            "grid_row": null,
            "grid_template_areas": null,
            "grid_template_columns": null,
            "grid_template_rows": null,
            "height": null,
            "justify_content": null,
            "justify_items": null,
            "left": null,
            "margin": null,
            "max_height": null,
            "max_width": null,
            "min_height": null,
            "min_width": null,
            "object_fit": null,
            "object_position": null,
            "order": null,
            "overflow": null,
            "overflow_x": null,
            "overflow_y": null,
            "padding": null,
            "right": null,
            "top": null,
            "visibility": null,
            "width": "20px"
          }
        },
        "6cba857f25144fe683b20c47d80870d6": {
          "model_module": "@jupyter-widgets/base",
          "model_module_version": "1.2.0",
          "model_name": "LayoutModel",
          "state": {
            "_model_module": "@jupyter-widgets/base",
            "_model_module_version": "1.2.0",
            "_model_name": "LayoutModel",
            "_view_count": null,
            "_view_module": "@jupyter-widgets/base",
            "_view_module_version": "1.2.0",
            "_view_name": "LayoutView",
            "align_content": null,
            "align_items": null,
            "align_self": null,
            "border": null,
            "bottom": null,
            "display": null,
            "flex": null,
            "flex_flow": null,
            "grid_area": null,
            "grid_auto_columns": null,
            "grid_auto_flow": null,
            "grid_auto_rows": null,
            "grid_column": null,
            "grid_gap": null,
            "grid_row": null,
            "grid_template_areas": null,
            "grid_template_columns": null,
            "grid_template_rows": null,
            "height": null,
            "justify_content": null,
            "justify_items": null,
            "left": null,
            "margin": null,
            "max_height": null,
            "max_width": null,
            "min_height": null,
            "min_width": null,
            "object_fit": null,
            "object_position": null,
            "order": null,
            "overflow": null,
            "overflow_x": null,
            "overflow_y": null,
            "padding": null,
            "right": null,
            "top": null,
            "visibility": null,
            "width": null
          }
        },
        "70b41738dd6b4702a39dca33897282a7": {
          "model_module": "@jupyter-widgets/base",
          "model_module_version": "1.2.0",
          "model_name": "LayoutModel",
          "state": {
            "_model_module": "@jupyter-widgets/base",
            "_model_module_version": "1.2.0",
            "_model_name": "LayoutModel",
            "_view_count": null,
            "_view_module": "@jupyter-widgets/base",
            "_view_module_version": "1.2.0",
            "_view_name": "LayoutView",
            "align_content": null,
            "align_items": null,
            "align_self": null,
            "border": null,
            "bottom": null,
            "display": null,
            "flex": null,
            "flex_flow": null,
            "grid_area": null,
            "grid_auto_columns": null,
            "grid_auto_flow": null,
            "grid_auto_rows": null,
            "grid_column": null,
            "grid_gap": null,
            "grid_row": null,
            "grid_template_areas": null,
            "grid_template_columns": null,
            "grid_template_rows": null,
            "height": null,
            "justify_content": null,
            "justify_items": null,
            "left": null,
            "margin": null,
            "max_height": null,
            "max_width": null,
            "min_height": null,
            "min_width": null,
            "object_fit": null,
            "object_position": null,
            "order": null,
            "overflow": null,
            "overflow_x": null,
            "overflow_y": null,
            "padding": null,
            "right": null,
            "top": null,
            "visibility": null,
            "width": null
          }
        },
        "931f2d6a96694a1fa090e445e8f3ce3b": {
          "model_module": "@jupyter-widgets/controls",
          "model_module_version": "1.5.0",
          "model_name": "DescriptionStyleModel",
          "state": {
            "_model_module": "@jupyter-widgets/controls",
            "_model_module_version": "1.5.0",
            "_model_name": "DescriptionStyleModel",
            "_view_count": null,
            "_view_module": "@jupyter-widgets/base",
            "_view_module_version": "1.2.0",
            "_view_name": "StyleView",
            "description_width": ""
          }
        },
        "9cb252e2c2af41b7962ebf0d19ef1e05": {
          "model_module": "@jupyter-widgets/controls",
          "model_module_version": "1.5.0",
          "model_name": "DescriptionStyleModel",
          "state": {
            "_model_module": "@jupyter-widgets/controls",
            "_model_module_version": "1.5.0",
            "_model_name": "DescriptionStyleModel",
            "_view_count": null,
            "_view_module": "@jupyter-widgets/base",
            "_view_module_version": "1.2.0",
            "_view_name": "StyleView",
            "description_width": ""
          }
        },
        "add460177f514d6aaf4661c60a877974": {
          "model_module": "@jupyter-widgets/base",
          "model_module_version": "1.2.0",
          "model_name": "LayoutModel",
          "state": {
            "_model_module": "@jupyter-widgets/base",
            "_model_module_version": "1.2.0",
            "_model_name": "LayoutModel",
            "_view_count": null,
            "_view_module": "@jupyter-widgets/base",
            "_view_module_version": "1.2.0",
            "_view_name": "LayoutView",
            "align_content": null,
            "align_items": null,
            "align_self": null,
            "border": null,
            "bottom": null,
            "display": null,
            "flex": null,
            "flex_flow": null,
            "grid_area": null,
            "grid_auto_columns": null,
            "grid_auto_flow": null,
            "grid_auto_rows": null,
            "grid_column": null,
            "grid_gap": null,
            "grid_row": null,
            "grid_template_areas": null,
            "grid_template_columns": null,
            "grid_template_rows": null,
            "height": null,
            "justify_content": null,
            "justify_items": null,
            "left": null,
            "margin": null,
            "max_height": null,
            "max_width": null,
            "min_height": null,
            "min_width": null,
            "object_fit": null,
            "object_position": null,
            "order": null,
            "overflow": null,
            "overflow_x": null,
            "overflow_y": null,
            "padding": null,
            "right": null,
            "top": null,
            "visibility": null,
            "width": null
          }
        },
        "e68570be56dd4f5a8d88060cf79baa11": {
          "model_module": "@jupyter-widgets/controls",
          "model_module_version": "1.5.0",
          "model_name": "FloatProgressModel",
          "state": {
            "_dom_classes": [],
            "_model_module": "@jupyter-widgets/controls",
            "_model_module_version": "1.5.0",
            "_model_name": "FloatProgressModel",
            "_view_count": null,
            "_view_module": "@jupyter-widgets/controls",
            "_view_module_version": "1.5.0",
            "_view_name": "ProgressView",
            "bar_style": "success",
            "description": "",
            "description_tooltip": null,
            "layout": "IPY_MODEL_6c8c9958c42c4a45a4d552e04b60582c",
            "max": 1,
            "min": 0,
            "orientation": "horizontal",
            "style": "IPY_MODEL_06b3f47d52bd45f9963baa4a30ae2b7e",
            "value": 1
          }
        },
        "f5dbe4ebaf914b3c87afae8612efd2c5": {
          "model_module": "@jupyter-widgets/controls",
          "model_module_version": "1.5.0",
          "model_name": "HTMLModel",
          "state": {
            "_dom_classes": [],
            "_model_module": "@jupyter-widgets/controls",
            "_model_module_version": "1.5.0",
            "_model_name": "HTMLModel",
            "_view_count": null,
            "_view_module": "@jupyter-widgets/controls",
            "_view_module_version": "1.5.0",
            "_view_name": "HTMLView",
            "description": "",
            "description_tooltip": null,
            "layout": "IPY_MODEL_70b41738dd6b4702a39dca33897282a7",
            "placeholder": "​",
            "style": "IPY_MODEL_9cb252e2c2af41b7962ebf0d19ef1e05",
            "value": " 170500096/? [03:56&lt;00:00, 12651887.16it/s]"
          }
        }
      }
    }
  },
  "nbformat": 4,
  "nbformat_minor": 0
}
