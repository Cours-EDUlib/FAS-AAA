{
  "nbformat": 4,
  "nbformat_minor": 0,
  "metadata": {
    "colab": {
      "name": "Apprentissage_supervise.ipynb",
      "provenance": [],
      "collapsed_sections": []
    },
    "kernelspec": {
      "name": "python3",
      "display_name": "Python 3"
    },
    "language_info": {
      "name": "python"
    }
  },
  "cells": [
    {
      "cell_type": "markdown",
      "metadata": {
        "id": "wgAn2AQYhGdn"
      },
      "source": [
        "<img align=\"left\" src=\"https://drive.google.com/uc?export=view&id=1orv1XTixxkcGADz18uSwN_5kCtd1yM7q\" alt=\"drawing\" width=\"100%\"/>"
      ]
    },
    {
      "cell_type": "markdown",
      "metadata": {
        "id": "UHWy4VrpfXj7"
      },
      "source": [
        "<img align=\"left\" src=\"https://drive.google.com/uc?id=1dUhDyLOrHHP0ghjdb2ZhvyQZ0ZpcmoIm\" alt=\"drawing\" width=\"200\"/> **<font color = 2b2b99 face=\"Times New Roman\" size=7>L'apprentissage supervisé : un cadre général basé sur scikit-learn</font>**"
      ]
    },
    {
      "cell_type": "markdown",
      "metadata": {
        "id": "bJS3ojj4nhHW"
      },
      "source": [
        "L'objectif de ce tutoriel est de présenter un gabarit/pipeline pour s'attaquer à des problèmes d'apprentissage supervisé avec la librairie `scikit-learn` dans Python.\n",
        "Nous supposons que vous avez déjà une familiarité avec ce langage de programmation, puisque les introductions aux librairies de base telles que `numpy` et `pandas` ne présentent que les concepts essentiels pour aborder le gabarit."
      ]
    },
    {
      "cell_type": "code",
      "source": [
        "#@markdown ### <font size=6 color='Red' face = \"Times New Roman\"> &nwarr; Exécutez cette cellule avant de débuter.</font>\n",
        "#@markdown ### <font size=4 color='Red' face = \"Times New Roman\"> Ceci prend environ 2 minutes.</font>\n",
        "\n",
        "# NE PAS TOUCHER À CETTE CELLULE\n",
        "# Cette cellule installe les bibliothèques nécessaires pour que le calepin fonctionne.\n",
        "# ici on spécifie les versions des bibliothèques\n",
        "!pip install -q numpy==1.21.5 &> /dev/null #cache les erreurs de dépendance de numpy pour des packages qu'on n'utilise pas\n",
        "!pip install -q matplotlib==3.2.2 &> /dev/null\n",
        "!pip install -q imgaug==0.2.5 &> /dev/null\n",
        "!pip install -q scikit-learn==1.0.2 &> /dev/null\n",
        "!pip install -q librosa==0.8.1 &> /dev/null\n",
        "!pip install -q scikit-image==0.18.2 &> /dev/null\n",
        "!pip install -q pandas==1.3.5 &> /dev/null\n",
        "!pip install -q requests==2.23.0 &> /dev/null\n",
        "!pip install -q plotly==5.5.0 &> /dev/null\n",
        "\n",
        "\n",
        "# # Il faut repartir le kernel\n",
        "import warnings\n",
        "import sys\n",
        "with warnings.catch_warnings():\n",
        "    print(\"Le calepin est prêt à être utilisé.\")\n",
        "    print(\"Si vous voyez un message de 'crash' en bas à gauche, c'est normal. \")\n",
        "    exit()"
      ],
      "metadata": {
        "id": "plfx1oFRXauy",
        "cellView": "form"
      },
      "execution_count": null,
      "outputs": []
    },
    {
      "cell_type": "markdown",
      "metadata": {
        "id": "JFG6FQELlfHS"
      },
      "source": [
        "# <img align=\"center\" src=\"https://drive.google.com/uc?export=view&id=1HjAM7KY8wrX73rl0F_aOnK5Z-vwwsCrX\" alt=\"drawing\" width=\"100\"/> **<font color = \"3832ba\" face=\"Times New Roman\" size=6>Les préalables</font>**"
      ]
    },
    {
      "cell_type": "markdown",
      "metadata": {
        "id": "_z5II82RhwLM"
      },
      "source": [
        "## <img align=\"center\" src=\"https://drive.google.com/uc?export=view&id=1HjAM7KY8wrX73rl0F_aOnK5Z-vwwsCrX\" alt=\"drawing\" width=\"100\"/> <font color = \"3832ba\" face=\"Times New Roman\" size=6>Introduction à l'environnement Colab</font>\n",
        "\n"
      ]
    },
    {
      "cell_type": "markdown",
      "metadata": {
        "id": "Rxtm06mVlpJd"
      },
      "source": [
        "- Enregistrer sa propre copie modifiable et enregistrable;\n",
        "- Naviguer dans le notebook;\n",
        "- Survol du matériel."
      ]
    },
    {
      "cell_type": "markdown",
      "metadata": {
        "id": "3LHsR6raiA8H"
      },
      "source": [
        "## <img align=\"center\" src=\"https://drive.google.com/uc?export=view&id=1HjAM7KY8wrX73rl0F_aOnK5Z-vwwsCrX\" alt=\"drawing\" width=\"100\"/> <font color = \"3832ba\" face=\"Times New Roman\" size=6>Ressources d'introduction à Python</font>\n"
      ]
    },
    {
      "cell_type": "markdown",
      "source": [
        "\n",
        "\n",
        "1.   https://courspython.com/\n",
        "2.   https://docs.python.org/fr/3/tutorial/\n",
        "\n"
      ],
      "metadata": {
        "id": "7Cadc1mHLNY_"
      }
    },
    {
      "cell_type": "markdown",
      "source": [
        "## <img align=\"center\" src=\"https://drive.google.com/uc?export=view&id=1HjAM7KY8wrX73rl0F_aOnK5Z-vwwsCrX\" alt=\"drawing\" width=\"100\"/> <font color = \"3832ba\" face=\"Times New Roman\" size=6>Introduction à `NumPy`</font>\n"
      ],
      "metadata": {
        "id": "H_mBKUuluTTx"
      }
    },
    {
      "cell_type": "markdown",
      "metadata": {
        "id": "Rn3oqajPggDp"
      },
      "source": [
        "> Cette librairie permet d'effectuer des calculs efficaces sur les matrices.\n",
        "\n",
        "![image.png](data:image/png;base64,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)\n",
        "\n",
        "Basée sur :\n",
        "*  https://numpy.org/doc/stable/user/absolute_beginners.html\n",
        " \n"
      ]
    },
    {
      "cell_type": "markdown",
      "source": [
        "\n",
        "### <img align=\"center\" src=\"https://drive.google.com/uc?export=view&id=1HjAM7KY8wrX73rl0F_aOnK5Z-vwwsCrX\" alt=\"drawing\" width=\"100\"/> <font color = \"3832ba\" face=\"Times New Roman\" size=5>Prérequis de Numpy</font>\n",
        "\n",
        "> <img align=\"center\" src=\"https://static.thenounproject.com/png/202763-200.png\" alt=\"drawing\" width=\"50\"/> **Exercice** :\n",
        "1. Allez chercher la librairie ***numpy***."
      ],
      "metadata": {
        "id": "svi42_RNPM0J"
      }
    },
    {
      "cell_type": "code",
      "metadata": {
        "id": "agj4Rje4vus4"
      },
      "source": [
        "#--------------------------------------------------------------------\n",
        "# Recherche de la librairie numpy.\n",
        "#--------------------------------------------------------------------\n",
        "\n",
        "import numpy as np"
      ],
      "execution_count": null,
      "outputs": []
    },
    {
      "cell_type": "markdown",
      "source": [
        "### <img align=\"center\" src=\"https://drive.google.com/uc?export=view&id=1HjAM7KY8wrX73rl0F_aOnK5Z-vwwsCrX\" alt=\"drawing\" width=\"100\"/> <font color = \"3832ba\" face=\"Times New Roman\" size=5>Manipulation de matrices</font>\n"
      ],
      "metadata": {
        "id": "0gDgSNf5QLTp"
      }
    },
    {
      "cell_type": "markdown",
      "source": [
        "Soit la matrice suivante : \n",
        "$$\n",
        "A =\n",
        "\\begin{pmatrix}\n",
        "5 & 1 \\\\\n",
        "3 & 2 \\\\\n",
        "\\end{pmatrix}\n",
        "$$ et les vecteurs $\\vec{u} = \\left( 1, 6, 7, 3, 4 \\right) $ et $\\vec{v} = \\begin{pmatrix}\n",
        "5 \\\\\n",
        "3 \\\\\n",
        "1 \\\\\n",
        "2 \\\\\n",
        "3 \\\\\n",
        "2 \\\\\n",
        "5 \\\\\n",
        "\\end{pmatrix} $. \n"
      ],
      "metadata": {
        "id": "eDIcK_tJQcWF"
      }
    },
    {
      "cell_type": "markdown",
      "source": [
        "> #### Représentation\n",
        "> <img align=\"center\" src=\"https://static.thenounproject.com/png/202763-200.png\" alt=\"drawing\" width=\"50\"/> **Exercice** :\n",
        "1. Représentez $\\vec{u}$, $\\vec{v}$ et A.\n",
        "2. Quelles sont les dimensions de $\\vec{u}$, $\\vec{v}$ et A?"
      ],
      "metadata": {
        "id": "1BfgQl6FaYvv"
      }
    },
    {
      "cell_type": "code",
      "source": [
        "u = np.array([[1, 6, 7, 3, 4]])\n",
        "\n",
        "v = np.array([5, 3, 1, 2, 3, 2, 5])\n",
        "\n",
        "# A a deux lignes [5, 1] et [3, 2]\n",
        "A = np.array([[5, 1], [3, 2]])\n",
        "\n",
        "print('Affichons la matrice A \\n %s ' % A)\n",
        "print('\\nLes dimensions de la matrice A sont\\n %d x %d' % (A.shape[0], A.shape[1]))\n",
        "print('\\nLes dimensions du vecteur u sont\\n %d x %d' % (u.shape[0], u.shape[1]))"
      ],
      "metadata": {
        "id": "-qtVfeSHeF9L"
      },
      "execution_count": null,
      "outputs": []
    },
    {
      "cell_type": "markdown",
      "source": [
        ">  #### Extraction d'éléments\n",
        "> <img align=\"center\" src=\"https://static.thenounproject.com/png/202763-200.png\" alt=\"drawing\" width=\"50\"/> **Exercice** :\n",
        "1.   Extrayez le sous-vecteur de u formé du 2$^{e}$ au 4$^{e}$ élément.\n",
        "2.   Extrayez le sous-vecteur de v formé du 1$^{er}$ au 3$^{e}$ élément.\n",
        "3.   Extrayez les éléments de A qui sont > que 1 et < que 4 et qui sont des multiples de 2."
      ],
      "metadata": {
        "id": "Tv317BiQeJrp"
      }
    },
    {
      "cell_type": "code",
      "source": [
        "# Extrayons le sous-vecteur de u formé du 2e au 4e élément.\n",
        "u_col_2_4 = u[:, 2:5]\n",
        "print('\\nLe sous-vecteur de u formé du 2e au 4e élément est \\n %s' % u_col_2_4)\n",
        "\n",
        "# Extrayons le sous-vecteur de v formé du 1er au 3e élément.\n",
        "v_row_1_3 = v[1:4]\n",
        "print('\\nLe sous-vecteur de v formé du 1er au 3e élément est \\n %s' % v_row_1_3)\n",
        "\n",
        "# Extrayons les éléments de A qui sont > que 1 et < que 4 et qui sont des multiples de 2.\n",
        "A_condition = A[(A > 1) & (A < 4) & (A % 2 == 0)]\n",
        "print('\\nLes éléments de A > 1, < 4 et multiples de 2 sont \\n %s' % A_condition)"
      ],
      "metadata": {
        "id": "tM1rPO7IeUiC"
      },
      "execution_count": null,
      "outputs": []
    },
    {
      "cell_type": "markdown",
      "source": [
        "> #### Statistiques de base\n",
        "<img align=\"center\" src=\"https://static.thenounproject.com/png/202763-200.png\" alt=\"drawing\" width=\"50\"/> **Exercice** :\n",
        "1.   Maximum de A.\n",
        "2.   Minimum de A.\n",
        "3.   La somme de tous les éléments de A."
      ],
      "metadata": {
        "id": "g_3O4zfdeXEw"
      }
    },
    {
      "cell_type": "code",
      "source": [
        "# Le maximum, minimum, somme des éléments de A.\n",
        "max_A = A.max()\n",
        "min_A = A.min()\n",
        "sum_A = A.sum()\n",
        "print('\\nLe minimum de A est \\n %d' % min_A)\n",
        "print('\\nLe maximum de A est \\n %d' % max_A)\n",
        "print('\\nLa somme des éléments de A est \\n %d' % sum_A)"
      ],
      "metadata": {
        "id": "cpu93vMyeg7o"
      },
      "execution_count": null,
      "outputs": []
    },
    {
      "cell_type": "markdown",
      "source": [
        "> #### Bon à savoir\n",
        "<img align=\"center\" src=\"https://static.thenounproject.com/png/202763-200.png\" alt=\"drawing\" width=\"50\"/> **Exercice** :\n",
        "1.   Quels sont les éléments uniques de v, leurs indices et leurs fréquences?\n",
        "2.   Quels sont les indices des éléments uniques de v?\n",
        "3.   Quelles sont les fréquences des éléments uniques de v?\n",
        "4.   Comment aplatir une matrice?"
      ],
      "metadata": {
        "id": "BixktGHVei5w"
      }
    },
    {
      "cell_type": "code",
      "source": [
        "# les éléments uniques de v, leurs indices et leurs fréquences.\n",
        "v_unique = np.unique(v)\n",
        "_, v_unique_indices = np.unique(v, return_index = True)\n",
        "_, v_unique_frequences = np.unique(v, return_counts = True)\n",
        "\n",
        "print('\\nLes éléments uniques de v sont \\n %s' % v_unique)\n",
        "print('\\nLes indices des éléments uniques de v sont \\n %s' % v_unique_indices)\n",
        "print('\\nLes fréquences des éléments uniques de v sont \\n %s' % v_unique_frequences)\n",
        "\n",
        "# Aplatir une matrice.\n",
        "A_aplatie = A.flatten()\n",
        "print('\\nLa matrice aplatie de A est \\n %s' % A_aplatie)"
      ],
      "metadata": {
        "id": "rH5ZHRozQVkO"
      },
      "execution_count": null,
      "outputs": []
    },
    {
      "cell_type": "markdown",
      "metadata": {
        "id": "f419DDLkhkKr"
      },
      "source": [
        "## <img align=\"center\" src=\"https://drive.google.com/uc?export=view&id=1HjAM7KY8wrX73rl0F_aOnK5Z-vwwsCrX\" alt=\"drawing\" width=\"100\"/> <font color = \"3832ba\" face=\"Times New Roman\" size=6>Introduction à `Pandas`</font>\n",
        "> Pandas offre un certain nombre de facilités en ce qui concerne les tableaux de données qui ont des étiquettes (par exemple, ils ont des noms de colonnes et de lignes). \n",
        "\n",
        "https://drive.google.com/uc?export=view&id=1HjAM7KY8wrX73rl0F_aOnK5Z-vwwsCrX\n",
        "\n",
        "Basée sur :\n",
        "* https://pandas.pydata.org/docs/user_guide/index.html\n"
      ]
    },
    {
      "cell_type": "markdown",
      "source": [
        "### <img align=\"center\" src=\"https://drive.google.com/uc?export=view&id=1HjAM7KY8wrX73rl0F_aOnK5Z-vwwsCrX\" alt=\"drawing\" width=\"100\"/> <font color = \"3832ba\" face=\"Times New Roman\" size=5>Prérequis de Pandas</font>\n",
        "\n",
        "> <img align=\"center\" src=\"https://static.thenounproject.com/png/202763-200.png\" alt=\"drawing\" width=\"50\"/> **Exercice** :\n",
        "* Installez pandas."
      ],
      "metadata": {
        "id": "AvGQno_XjxkR"
      }
    },
    {
      "cell_type": "code",
      "metadata": {
        "id": "KCba5BwLvvP4"
      },
      "source": [
        "import pandas as pd"
      ],
      "execution_count": null,
      "outputs": []
    },
    {
      "cell_type": "markdown",
      "source": [
        "### <img align=\"center\" src=\"https://drive.google.com/uc?export=view&id=1HjAM7KY8wrX73rl0F_aOnK5Z-vwwsCrX\" alt=\"drawing\" width=\"100\"/> <font color = \"3832ba\" face=\"Times New Roman\" size=5>Création de tableaux de données</font>\n",
        "\n",
        "**Mise en situation** :\n",
        "\n",
        "Vous faites une enquête auprès de 10 personnes à la station de métro Côte-Vertu. Vous leur demandez leur date de naissance, leur province d'origine et leur revenu. Voici les données obtenues :\n",
        "\n",
        "\n",
        "*   Les naissances : 1990, 1995, 1992, 1997, 1994, 1994, 1993, 1990, 1992, 1990.\n",
        "*   Les provinces : Québec (QC), Alberta (AB), Québec (QC), Nouveau-Brunswick (NB), Ontario (ON), Québec (QC), Nouveau-Brunswick (NB), Québec (QC), Alberta (AB), Ontario (ON).\n",
        "*   Les revenus ($) : 25000, 30000, 18000, 22000, 27000, 23500, 21250, 26750, 19900, 20500.\n",
        "\n",
        "\n",
        "\n",
        "> <img align=\"center\" src=\"https://static.thenounproject.com/png/202763-200.png\" alt=\"drawing\" width=\"50\"/> **Exercice** :\n",
        "1.   Construisez un tableau de données à partir de ces informations.\n",
        "2.   Affichez les quatre (4) premières lignes du tableau.\n",
        "4.   Affichez les quatre (4) dernières lignes du tableau."
      ],
      "metadata": {
        "id": "gOY9XCVEkRDp"
      }
    },
    {
      "cell_type": "code",
      "source": [
        "naissances = [1990, 1995, 1992, 1997, 1994, 1994, 1993, 1990, 1992, 1990]\n",
        "provinces = ['QC', 'AB', 'QC', 'NB', 'ON', 'QC', 'NB', 'QC', 'AB', 'ON']\n",
        "revenus = [25000, 30000, 18000, 22000, 27000, 23500, 21250, 26750, 19900, 20500]\n",
        "\n",
        "tableau = pd.DataFrame({'Naissance': naissances, \n",
        "                        'Province': provinces,\n",
        "                        'Revenu': revenus})\n",
        "\n",
        "tableau_debut = tableau.head(4) # les 4 premières lignes du tableau\n",
        "tableau_fin = tableau.tail(4) # les 4 dernières lignes du tableau\n",
        "\n",
        "print('Les 4 premières lignes du tableau sont : \\n %s' % tableau_debut)\n",
        "print('\\n ----------------------------------------------------------- ')\n",
        "print(' ----------------------------------------------------------- \\n')\n",
        "print('\\n Les 4 dernières lignes du tableau sont : \\n %s' % tableau_fin)\n"
      ],
      "metadata": {
        "id": "eKFNtGC-kbR1"
      },
      "execution_count": null,
      "outputs": []
    },
    {
      "cell_type": "markdown",
      "source": [
        "### <img align=\"center\" src=\"https://drive.google.com/uc?export=view&id=1HjAM7KY8wrX73rl0F_aOnK5Z-vwwsCrX\" alt=\"drawing\" width=\"100\"/> <font color = \"3832ba\" face=\"Times New Roman\" size=5>Manipulations de base</font>\n"
      ],
      "metadata": {
        "id": "o7Do9IzGpOIx"
      }
    },
    {
      "cell_type": "markdown",
      "source": [
        "> #### Extraction de valeurs\n",
        "\n",
        "> <img align=\"center\" src=\"https://static.thenounproject.com/png/202763-200.png\" alt=\"drawing\" width=\"50\"/> **Exercice** :\n",
        "*  Extrayez du tableau tous les individus qui vivent au Québec (QC) et qui ont un revenu entre 19000 et 26000, et qui sont nés entre 1990 et 1993."
      ],
      "metadata": {
        "id": "bIXLDWXSprfF"
      }
    },
    {
      "cell_type": "code",
      "source": [
        "tableau_conditions = tableau[(tableau.Province == 'QC') &\n",
        "                             (tableau.Revenu >= 19000) & \n",
        "                             (tableau.Revenu <= 26000) &\n",
        "                             (tableau.Naissance >= 1990) & \n",
        "                             (tableau.Naissance <= 1993)]\n",
        "tableau_conditions"
      ],
      "metadata": {
        "id": "FMvJtWTMqNns"
      },
      "execution_count": null,
      "outputs": []
    },
    {
      "cell_type": "markdown",
      "source": [
        "\n",
        "\n",
        "> #### Extraction de lignes et colonnes\n",
        "\n",
        "> <img align=\"center\" src=\"https://static.thenounproject.com/png/202763-200.png\" alt=\"drawing\" width=\"50\"/> **Exercice** :\n",
        "*  Extrayez du tableau la date de naissance et le revenu du 2$^{e}$ et 6$^{e}$ individu.\n"
      ],
      "metadata": {
        "id": "rzkvLV4yuTFH"
      }
    },
    {
      "cell_type": "code",
      "source": [
        "tableau.loc[[2, 6], ['Naissance', 'Revenu']]"
      ],
      "metadata": {
        "id": "-WxQOL5XuAd1"
      },
      "execution_count": null,
      "outputs": []
    },
    {
      "cell_type": "markdown",
      "source": [
        "\n",
        "\n",
        "> #### Quelques statistiques par groupe\n",
        "\n",
        ">  <img align=\"center\" src=\"https://static.thenounproject.com/png/202763-200.png\" alt=\"drawing\" width=\"50\"/> **Exercice** :\n",
        "*  Quelle est la moyenne des salaires par province d'origine?\n"
      ],
      "metadata": {
        "id": "FptwhvidvBvv"
      }
    },
    {
      "cell_type": "code",
      "source": [
        "tableauSalaireMoyenParProvince = tableau[['Province', 'Revenu']].groupby(\"Province\").mean()\n",
        "tableauSalaireMoyenParProvince"
      ],
      "metadata": {
        "id": "NRH8exOJvha0"
      },
      "execution_count": null,
      "outputs": []
    },
    {
      "cell_type": "markdown",
      "metadata": {
        "id": "xK3JkO_Licni"
      },
      "source": [
        "## <img align=\"center\" src=\"https://drive.google.com/uc?export=view&id=1HjAM7KY8wrX73rl0F_aOnK5Z-vwwsCrX\" alt=\"drawing\" width=\"100\"/> <font color = \"3832ba\" face=\"Times New Roman\" size=6>Introduction à `scikit-learn`</font>\n",
        "\n",
        "basée sur :\n",
        "\n",
        "- https://scikit-learn.org/stable/"
      ]
    },
    {
      "cell_type": "markdown",
      "source": [
        "## <img align=\"center\" src=\"https://drive.google.com/uc?export=view&id=1HjAM7KY8wrX73rl0F_aOnK5Z-vwwsCrX\" alt=\"drawing\" width=\"100\"/> <font color = \"3832ba\" face=\"Times New Roman\" size=5>Prérequis de scikit-learn</font>\n",
        "\n",
        "> <img align=\"center\" src=\"https://static.thenounproject.com/png/202763-200.png\" alt=\"drawing\" width=\"50\"/> **Exercice** :\n",
        "1. Allez chercher sklearn, le nom de la bibliothèque de scikit-learn."
      ],
      "metadata": {
        "id": "UNlt8mePysZI"
      }
    },
    {
      "cell_type": "code",
      "metadata": {
        "id": "sA8jGUr1vv7s"
      },
      "source": [
        "# Chargement de la librairie sklearn.\n",
        "import sklearn"
      ],
      "execution_count": null,
      "outputs": []
    },
    {
      "cell_type": "markdown",
      "source": [
        "## <img align=\"center\" src=\"https://drive.google.com/uc?export=view&id=1HjAM7KY8wrX73rl0F_aOnK5Z-vwwsCrX\" alt=\"drawing\" width=\"100\"/> <font color = \"3832ba\" face=\"Times New Roman\" size=5>Modules et aide sur sklearn</font>\n",
        "\n",
        "> <img align=\"center\" src=\"https://static.thenounproject.com/png/202763-200.png\" alt=\"drawing\" width=\"50\"/> **Exercice** :\n",
        "1. Listez tous les modules de sklearn.\n",
        "2. Quelles sont les différentes fonctions du module model_selection de sklearn?\n",
        "3. Trouvez deux façons de chercher de l'aide d'une fonction.\n",
        "\n"
      ],
      "metadata": {
        "id": "PZZ_scqzOu1V"
      }
    },
    {
      "cell_type": "code",
      "source": [
        "# Tous les modules de sklearn\n",
        "sklearn.__dict__['__all__']"
      ],
      "metadata": {
        "id": "FlAGcMy51HEs"
      },
      "execution_count": null,
      "outputs": []
    },
    {
      "cell_type": "code",
      "source": [
        "# Fonctions dans le module model_selection de sklearn.\n",
        "from sklearn import model_selection\n",
        "model_selection.__dict__['__all__']"
      ],
      "metadata": {
        "id": "zVhbhA78V-lL"
      },
      "execution_count": null,
      "outputs": []
    },
    {
      "cell_type": "code",
      "source": [
        "# Aide de fonctions.\n",
        "# Par exemple, vous souhaitez voir des exemples d'utilisation de np.sum.\n",
        "help(np.sum) # ou ? np.sum"
      ],
      "metadata": {
        "id": "8VGm2WrzO_MG"
      },
      "execution_count": null,
      "outputs": []
    },
    {
      "cell_type": "markdown",
      "metadata": {
        "id": "FaFNc0uGi4sh"
      },
      "source": [
        "# <img align=\"center\" src=\"https://drive.google.com/uc?export=view&id=1HjAM7KY8wrX73rl0F_aOnK5Z-vwwsCrX\" alt=\"drawing\" width=\"100\"/> **<font color = \"3832ba\" face=\"Times New Roman\" size=6>Un gabarit d'apprentissage supervisé</font>**"
      ]
    },
    {
      "cell_type": "markdown",
      "metadata": {
        "id": "PcbZF26AltI8"
      },
      "source": [
        "On a un ensemble de données *d'entraînement* $S = \\{(x_1, y_1), ..., (x_n,y_n)\\}$.\n",
        "On cherche à apprendre un modèle $f(x)= \\hat y$ où $\\hat y$ est le plus similaire possible à $y$ pour toutes les paires $(x, y)$ possibles, même celles qui ne sont pas dans l'ensemble d'entraînement. \n",
        "Ce notebook introduit un gabarit qui encapsule les différents composants d'un programme d'apprentissage supervisé.\n",
        "Un avantage majeur de ce gabarit est qu'il est compatible avec la majorité des modèles dans `scikit-learn`.\n",
        "\n",
        "Le gabarit a cinq sections :\n",
        "\n",
        "- L'importation des données;\n",
        "- Le prétraitement des données;\n",
        "- L'entraînement du modèle;\n",
        "- La validation des hyperparamètres;\n",
        "- L'évaluation finale du modèle.\n",
        "\n",
        "Pour présenter le gabarit concrètement, nous nous attaquerons à un problème de **régression** avec un modèle de régression linéaire. Nous utiliserons des données synthétiques très simples."
      ]
    },
    {
      "cell_type": "markdown",
      "source": [
        "## <img align=\"center\" src=\"https://drive.google.com/uc?export=view&id=1HjAM7KY8wrX73rl0F_aOnK5Z-vwwsCrX\" alt=\"drawing\" width=\"100\"/> <font color = \"3832ba\" face=\"Times New Roman\" size=6>L'importation des données</font>\n"
      ],
      "metadata": {
        "id": "wxPX2y7Suz6j"
      }
    },
    {
      "cell_type": "markdown",
      "metadata": {
        "id": "9v8nV-skj0Wq"
      },
      "source": [
        "L'apprentissage automatique est à base de données. Pour s'attaquer à un problème, il faut donc obtenir des données qui y sont reliées. L'obtention des données brutes dépasse le cadre de ce gabarit, mais une fois que l'on a accès aux données, il faut pouvoir les manipuler avec Python. Pour ce faire, il faut importer les données.\n",
        "\n",
        "En général, les données que l'on cherche à importer sont stockées dans deux endroits possibles :\n",
        "\n",
        "> - Dans le disque dur de l'ordinateur utilisé ou dans un appareil périphérique de mémoire comme une clé USB.\n",
        "> - Dans un autre ordinateur, mais il est possible de les télécharger sur notre ordinateur et de les importer. Dans plusieurs cas, il est possible de directement télécharger les données dans Python.\n",
        "\n",
        "Une fois téléchargées, les données se trouvent dans un fichier ou un ensemble de fichiers. Selon les données, le format de fichier (p. ex. : `.csv`, `.txt`, `.gz`) peut varier. Il existe plusieurs librairies dédiées à l'importation des données. Pour l'élaboration de ce gabarit, nous créerons un ensemble de données synthétiques.\n",
        "\n",
        ">  <img align=\"center\" src=\"https://static.thenounproject.com/png/202763-200.png\" alt=\"drawing\" width=\"50\"/> **Exercice** :\n",
        "1.  Créez une caractéristique X en générant de manière aléatoire 50 valeurs.\n",
        "2.  Créez une caractéristique y qui sera 2*X - 5 plus des valeurs générées de manière aléatoire.\n",
        "3.  Construisez un tableau de données df formé de X et de y.\n",
        "4.  Affichez les premières valeurs de df. \n",
        "5.  Affichez la longueur de df.\n",
        "**N.B.** : <font color = \"red\" size=4> Assurez-vous que vos résultats soient reproductibles. Considérez une graine (*seed*) de 80."
      ]
    },
    {
      "cell_type": "code",
      "metadata": {
        "id": "VqtFTUPVl3Wz"
      },
      "source": [
        "import numpy as np\n",
        "import pandas as pd\n",
        "\n",
        "# Création d'un ensemble de données synthétique pour un problème de régression.\n",
        "\n",
        "# Ceci permet que mes résultats soient reproductibles.\n",
        "np.random.seed(80)\n",
        "\n",
        "# Une caractéristique générée aléatoirement.\n",
        "X = np.random.randn(50)\n",
        "\n",
        "# Une étiquette générée en fonction de la caractéristique.\n",
        "y = 2 * X - 5 + np.random.randn(50)\n",
        "\n",
        "# On visualise les premiers exemples avec un DataFrame de pandas.\n",
        "df = pd.DataFrame({'caractéristique': X,'étiquette': y})\n",
        "\n",
        "print(df.head())\n",
        "print(\"nombre d'exemples : \", len(df))"
      ],
      "execution_count": null,
      "outputs": []
    },
    {
      "cell_type": "markdown",
      "metadata": {
        "id": "wTLlQUn9xcuz"
      },
      "source": [
        "On voit que l'ensemble de données généré contient 50 paires `(X,y)`.\n",
        "Chaque exemple n'a qu'une seule caractéristique, qui est un nombre réel, et une étiquette, qui est aussi un nombre réel.\n",
        "La convention en français est d'utiliser\n",
        "une virgule entre la partie entière et [la mantisse](https://fr.wikipedia.org/wiki/Mantisse) d'un nombre réel, mais le point est utilisé en Python."
      ]
    },
    {
      "cell_type": "markdown",
      "metadata": {
        "id": "0HKZUHrbj0eq"
      },
      "source": [
        "## <img align=\"center\" src=\"https://drive.google.com/uc?export=view&id=1HjAM7KY8wrX73rl0F_aOnK5Z-vwwsCrX\" alt=\"drawing\" width=\"100\"/> <font color = \"3832ba\" face=\"Times New Roman\" size=6>Le prétraitement des données</font>"
      ]
    },
    {
      "cell_type": "markdown",
      "metadata": {
        "id": "MmpenNvXxqC7"
      },
      "source": [
        "Après l'importation des données, on effectue généralement un certain prétraitement des données. Les objectifs de ce prétraitement sont multiples :\n",
        "\n",
        "> * On souhaite préparer les données pour un modèle d'apprentissage automatique, ce qui peut nécessiter la correction ou le retrait de certaines données selon le contexte;\n",
        "> * Le prétraitement permet aussi de comprendre intuitivement certaines relations entre les caractéristiques et les étiquettes.\n",
        "\n",
        "Certains aspects du prétraitement seront explorés dans le module 2."
      ]
    },
    {
      "cell_type": "markdown",
      "metadata": {
        "id": "D_U8GM_dyXj-"
      },
      "source": [
        "### <img align=\"center\" src=\"https://drive.google.com/uc?export=view&id=1HjAM7KY8wrX73rl0F_aOnK5Z-vwwsCrX\" alt=\"drawing\" width=\"100\"/> <font color = \"3832ba\" face=\"Times New Roman\" size=5>La visualisation des données</font>\n",
        "\n",
        "Durant le prétraitement, la visualisation des données peut aider à les comprendre intuitivement. Deux bibliothèques utiles pour créer des visualisations sont `matplotlib`et `seaborn`.\n",
        "\n",
        "`Seaborn` est plus simple à utiliser, mais `matplotlib` permet un contrôle plus fin de la visualisation.\n",
        "\n",
        "> <img align=\"center\" src=\"https://static.thenounproject.com/png/202763-200.png\" alt=\"drawing\" width=\"50\"/> **Exercice** :\n",
        "1. Représentez le nuage de points avec `matplotlib`.\n",
        "2. Représentez le nuage de points avec `seaborn`."
      ]
    },
    {
      "cell_type": "code",
      "metadata": {
        "id": "glSBcZZBl3E9"
      },
      "source": [
        "# Un exemple de visualisation avec matplotlib.\n",
        "import matplotlib.pyplot as plt\n",
        "\n",
        "# On visualise les données avec un nuage de points.\n",
        "plt.scatter(X,y)"
      ],
      "execution_count": null,
      "outputs": []
    },
    {
      "cell_type": "code",
      "metadata": {
        "id": "FjpsW29Sjz5Y"
      },
      "source": [
        "# Un exemple de visualisation avec seaborn.\n",
        "import seaborn as sns\n",
        "\n",
        "# On visualise les données avec un nuage de points.\n",
        "sns.scatterplot(X,y)"
      ],
      "execution_count": null,
      "outputs": []
    },
    {
      "cell_type": "markdown",
      "metadata": {
        "id": "bjoY50n2l8Bv"
      },
      "source": [
        "La visualisation des données est un processus intrinsèquement exploratoire. Le \n",
        "but est de mieux comprendre les relations entre les données."
      ]
    },
    {
      "cell_type": "markdown",
      "metadata": {
        "id": "MiPYJxHNPxcP"
      },
      "source": [
        "### <img align=\"center\" src=\"https://drive.google.com/uc?id=1OSSO58_H2DJQA_Fq9JlEYLff0I94QKlT\" alt=\"drawing\" width=\"100\"/> <font color='e922db' face=\"Times New Roman\" size=5>Pour aller plus loin : les visualisations interactives</font>"
      ]
    },
    {
      "cell_type": "markdown",
      "metadata": {
        "id": "AslobcUAy8lz"
      },
      "source": [
        "> Avec des données plus complexes, il existe une panoplie de visualisations de données pour mieux les comprendre. Voici un exemple de visualisation en trois dimensions d'`Iris`, un ensemble de données séminal pour la classification d'espèces de fleurs selon les dimensions de leurs pétales et de leurs sépales.\n",
        "> \n",
        "> La bibliothèque utilisée dans cet exemple est `plotly`; elle est spécialisée pour les visualisations interactives. Nous cachons le code par simplicité de présentation, mais sentez-vous libre de l'explorer.\n",
        "\n"
      ]
    },
    {
      "cell_type": "code",
      "metadata": {
        "id": "yKP1aBuFzqAn",
        "cellView": "form"
      },
      "source": [
        "#@markdown #### <font color='e922db' face = \"Times New Roman\">Visualisation manipulable des données Iris</font>\n",
        "\n",
        "# Cette visualisation utilise la librairie Plotly.\n",
        "# Code repris de https://plotly.com/python/3d-scatter-plots/\n",
        "import plotly.express as px\n",
        "\n",
        "# on importe l'ensemble de données directement à travers plotly\n",
        "df = px.data.iris()\n",
        "\n",
        "# les colonnes viennent par défaut en anglais, alors on les traduit\n",
        "fr_cols = {'sepal_length': \"longueur du sépale\", \n",
        "'sepal_width': \"largeur du sépale\", \n",
        "'petal_length': \"longueur du pétale\", \n",
        "'petal_width': \"largeur du pétale\", \n",
        "'species': \"espèce\",\n",
        "'species_id': \"ID de l'espèce\"}\n",
        "\n",
        "df = df.rename(columns=fr_cols)\n",
        "\n",
        "fig = px.scatter_3d(df, x='longueur du sépale', y='largeur du sépale', z='largeur du pétale',\n",
        "              color='espèce')\n",
        "fig.show()"
      ],
      "execution_count": null,
      "outputs": []
    },
    {
      "cell_type": "markdown",
      "metadata": {
        "id": "-jg5AqT8b6OP"
      },
      "source": [
        "<a name=\"split\"></a>\n",
        "\n",
        "### <img align=\"center\" src=\"https://drive.google.com/uc?export=view&id=1HjAM7KY8wrX73rl0F_aOnK5Z-vwwsCrX\" alt=\"drawing\" width=\"100\"/> <font color = \"3832ba\" face=\"Times New Roman\" size=5>Les ensembles d'entraînement, de validation et d'évaluation</font>\n",
        "\n",
        "Le but de l'apprentissage supervisé est de trouver un modèle qui s'attaque à une certaine tâche à l'aide d'un ensemble de données qui y sont reliées.\n",
        "Naturellement, on souhaite que le modèle soit performant sur les données obtenues. \n",
        "Cependant, le but ultime de l'apprentissage est que le modèle soit aussi performant pour des **exemples inconnus** que pour les données utilisées durant l'entraînement.\n",
        "\n",
        "Pour simuler ce contexte, on entraîne le modèle sur un sous-ensemble des données.\n",
        "Les données qui ne sont pas utilisées durant l'entraînement servent à évaluer la performance du modèle après l'entraînement.\n",
        "\n",
        "Alors que l'entraînement du modèle optimise automatiquement ses paramètres, il faut aussi optimiser les hyperparamètres. Pour ce faire, on extrait un sous-ensemble des données d'entraînement. En fin de compte, on obtient trois ensembles de données séparés :\n",
        "\n",
        "> 1. L'ensemble d'entraînement est utilisé pour entraîner le modèle.\n",
        "2. L'ensemble de validation permet de régler les hyperparamètres du modèle.\n",
        "3. L'ensemble d'évaluation mesure la performance du modèle entraîné et validé. \n",
        "<!-- pour obtenir une estimation sans biais de la performance du modèle sur la tâche -->\n",
        "\n",
        "![image](https://drive.google.com/uc?id=1gt-hDQDWL9efhqinb_Hg2LiOAxdVoHi6)\n",
        "\n",
        "`sk-learn` offre des fonctions utiles pour séparer un ensemble de données en ensembles d'entraînement et d'évaluation : la fonction `train_test_split` sépare un jeu de données aléatoirement pour obtenir deux ensembles. Comme nous le verrons durant la [validation des hyperparamètres](#valid), il n'est pas nécessaire à ce point-ci de créer un ensemble de validation.\n",
        "\n",
        "\n",
        "> <img align=\"center\" src=\"https://static.thenounproject.com/png/202763-200.png\" alt=\"drawing\" width=\"50\"/> **Exercice** :\n",
        "*  Créez deux ensembles de données : un d'entraînement et un d'évaluation sachant que celui d'évaluation représente une proportion de 20 \\% de tout l'ensemble initial de données.\n"
      ]
    },
    {
      "cell_type": "code",
      "metadata": {
        "id": "FhRLJbt_AYUs"
      },
      "source": [
        "from sklearn.model_selection import train_test_split\n",
        "\n",
        "# On sépare les caractéristiques et les étiquettes en ensembles d'entraînement\n",
        "# et d'évaluation. Les indices des caractéristiques et des étiquettes \n",
        "# associées correspondent.\n",
        "X_train, X_test, y_train, y_test = train_test_split(X, y, test_size=0.2)\n",
        "\n",
        "print(\"Exemples dans l'ensemble d'entraînement : \", len(X_train))\n",
        "print(\"Exemples dans l'ensemble d'évaluation :   \", len(X_test))"
      ],
      "execution_count": null,
      "outputs": []
    },
    {
      "cell_type": "markdown",
      "metadata": {
        "id": "qrmviMXBj0k3"
      },
      "source": [
        "##  <img align=\"center\" src=\"https://drive.google.com/uc?export=view&id=1HjAM7KY8wrX73rl0F_aOnK5Z-vwwsCrX\" alt=\"drawing\" width=\"100\"/> <font color = \"3832ba\" face=\"Times New Roman\" size=6>L'entraînement du modèle</font>\n",
        "\n",
        "> <img align=\"center\" src=\"https://static.thenounproject.com/png/202763-200.png\" alt=\"drawing\" width=\"50\"/> **Exercice** :\n",
        "1. Initialisez votre modèle de régression linéaire.\n",
        "2. Entraînez-le sur des données d'entraînement.\n",
        "3. Affichez les estimations des paramètres du modèle.\n",
        "4. Visualisez sa prédiction par rapport aux points de données.\n",
        "5. Affichez les données avec la droite d'ajustement linéaire."
      ]
    },
    {
      "cell_type": "code",
      "metadata": {
        "id": "r0LpOrVQl2y8"
      },
      "source": [
        "from sklearn.linear_model import SGDRegressor\n",
        "\n",
        "# On initialise le modèle.\n",
        "reg = SGDRegressor()\n",
        "\n",
        "# On entraîne le modèle sur les données d'entraînement.\n",
        "reg.fit(X_train.reshape(-1,1), y_train)"
      ],
      "execution_count": null,
      "outputs": []
    },
    {
      "cell_type": "code",
      "metadata": {
        "id": "nOQlGBx0ACCH"
      },
      "source": [
        "print (\"paramètres :\\n\", \"la pente :   \", reg.coef_, \"\\n l'ordonnée : \", reg.intercept_)\n",
        "\n",
        "prédictions = reg.predict(X_train.reshape(-1,1))\n",
        "\n",
        "plt.plot(X_train, prédictions)\n",
        "plt.scatter(X_train, y_train)"
      ],
      "execution_count": null,
      "outputs": []
    },
    {
      "cell_type": "markdown",
      "metadata": {
        "id": "o043NzYnj0sS"
      },
      "source": [
        "<a name=\"valid\"></a>\n",
        "\n",
        "##  <img align=\"center\" src=\"https://drive.google.com/uc?export=view&id=1HjAM7KY8wrX73rl0F_aOnK5Z-vwwsCrX\" alt=\"drawing\" width=\"100\"/> <font color = \"3832ba\" face=\"Times New Roman\" size=6>La validation des hyperparamètres</font>"
      ]
    },
    {
      "cell_type": "markdown",
      "metadata": {
        "id": "Lbwxx1V7jc98"
      },
      "source": [
        "L'entraînement d'un modèle sert à optimiser les paramètres d'un modèle. Cette optimisation se fait automatiquement avec un algorithme d'optimisation qui modifie les paramètres itérativement. Cependant, la plupart des modèles d'apprentissage automatique ont certains paramètres qui ne peuvent pas (ou ne devraient pas) être optimisés de la même manière, ils sont appelés *hyperparamètres*.\n",
        "\n",
        "En général, il y a deux sortes d'hyperparamètres : \n",
        "> - Les hyperparamètres reliés à la sélection de modèles sont des hyperparamètres qui influencent la **capacité** du modèle, c'est-à-dire la complexité des fonctions que le modèle peut représenter. Un exemple d'hyperparamètre relié à la sélection de modèles est le nombre de neurones dans un réseau de neurones. Conceptuellement, la sélection d'un modèle en particulier peut être considérée comme une collection d'hyperparamètres.\n",
        "> - Les hyperparamètres reliés à l'algorithme d'optimisation sont des hyperparamètres qui influencent l'optimisation des paramètres. Par exemple, si l'algorithme d'optimisation modifie les paramètres du modèle de manière itérative, un hyperparamètre potentiel est la taille de la modification.\n",
        "\n",
        "Les hyperparamètres ne devraient jamais être optimisés avec l'ensemble d'entraînement. Si on optimisait ces hyperparamètres avec les paramètres, on finirait toujours par choisir le modèle avec le plus de capacité et on risquerait alors de surapprendre (*overfit*). \n",
        "\n",
        "Pour régler ces hyperparamètres, on utilise un ensemble de données séparé nommé *ensemble de validation*. Celui-ci permet d'estimer l'erreur de généralisation durant l'entraînement de la manière suivante :\n",
        "\n",
        "> 1. On choisit des valeurs pour les hyperparamètres.\n",
        "> 2. On entraîne le modèle avec ces valeurs d'hyperparamètres.\n",
        "> 3. On évalue l'erreur de généralisation sur l'ensemble de validation.\n",
        "> 4. On choisit de nouvelles valeurs pour les hyperparamètres et on retourne à l'étape 1.\n",
        "\n",
        "Pour estimer l'erreur de généralisation d'un ensemble de valeurs d'hyperparamètres durant l'entraînement, il est donc nécessaire d'entraîner le modèle avec ces valeurs. Pour régler les hyperparamètres, il faut alors effectuer plusieurs rondes d'entraînement : chaque ensemble de valeurs différent pour les hyperparamètres requiert l'entraînement d'un modèle.\n"
      ]
    },
    {
      "cell_type": "markdown",
      "metadata": {
        "id": "gLW9oBx5jTzi"
      },
      "source": [
        "#### <img align=\"center\" src=\"https://drive.google.com/uc?export=view&id=1HjAM7KY8wrX73rl0F_aOnK5Z-vwwsCrX\" alt=\"drawing\" width=\"100\"/> <font color='3832ba' face=\"Times New Roman\" size=5>La validation croisée à $k$ blocs</font>\n",
        "\n",
        "Durant le prétraitement des données, nous avons [séparé l'ensemble de données en deux](#split), tout en spécifiant qu'il n'était pas nécessaire à ce point-là de créer un ensemble de validation.\n",
        "\n",
        "L'entraînement, la validation et l'évaluation sont des étapes nécessaires. Toutefois, en partitionnant l'ensemble de données en trois ensembles, on réduit drastiquement le nombre d'exemples disponibles pour l'apprentissage du modèle.\n",
        "Une solution à ce problème est la *validation croisée*. Au lieu d'utiliser un ensemble de données séparé durant la validation, l'ensemble de données d'entraînement est séparé en plusieurs blocs. Pour chaque bloc $i$, on entraîne le modèle sur tous les autres blocs et on valide les hyperparamètres sur le bloc $i$. La performance est calculée en moyennant le résultat de validation pour tous les blocs. Cette procédure permet de valider le modèle sans sacrifier trop de données durant l'entraînement. \n",
        "<figure>\n",
        "<img align=\"center\" src=\"https://scikit-learn.org/stable/_images/grid_search_cross_validation.png\" alt=\"drawing\" width=\"500\"/>\n",
        "<figcaption>Image tirée de <a href=\"https://scikit-learn.org/stable/modules/cross_validation.html#\">https://scikit-learn.org</a></figcaption>\n",
        "</figure>\n",
        "La bibliothèque `sk-learn` offre la fonctionnalité `GridSearchCV()` qui permet de régler les hyperparamètres en explorant leurs valeurs de manière exhaustive par validation croisée.\n",
        "\n",
        "La fonction `GridSearchCV()` requiert la spécification de deux arguments :\n",
        "\n",
        "* Un modèle que l'on cherche à valider;\n",
        "* Un dictionnaire d'hyperparamètres avec des gammes de valeurs associées à explorer.\n",
        "\n",
        "`GridSearchCV()` implémente l'entraînement du modèle pour chaque ensemble de valeurs possibles des hyperparamètres spécifiés par le dictionnaire et choisit le meilleur modèle par validation croisée.\n",
        "\n",
        "> <img align=\"center\" src=\"https://static.thenounproject.com/png/202763-200.png\" alt=\"drawing\" width=\"50\"/> **Exercice** :\n",
        "1. Initialisez un modèle de régression linéaire.\n",
        "2. Cherchez le meilleur hyperparamètre eta0 sur la plage de valeurs 0.1, 0.2, 0.3, 0.4, 0.5, 0.6, 0.7, 0.8, 0.9.\n"
      ]
    },
    {
      "cell_type": "code",
      "metadata": {
        "id": "pF8ytUxel2YV"
      },
      "source": [
        "from sklearn.model_selection import GridSearchCV, validation_curve\n",
        "\n",
        "# On initialise le modèle.\n",
        "reg = SGDRegressor(penalty=None, learning_rate=\"constant\")\n",
        "\n",
        "# La fonction np.arange() permet de créer une gamme de valeurs.\n",
        "start = 0.1 # Commence à 0.1\n",
        "stop = 1 # Termine à 1\n",
        "step = 0.1 # Pas de 0.1 \n",
        "valeurs = np.arange(start, stop, step)\n",
        "\n",
        "# On spécifie un dictionnaire d'hyperparamètres à régler.\n",
        "hyperparam = {\n",
        "  'eta0' : valeurs\n",
        "}\n",
        "\n",
        "# On spécifie la validation croisée. \n",
        "clf = GridSearchCV(reg, hyperparam, cv = 5)\n",
        "\n",
        "# On entraîne et on valide le modèle et les hyperparamètres associés.\n",
        "clf.fit(X_train.reshape(-1,1), y_train)"
      ],
      "execution_count": null,
      "outputs": []
    },
    {
      "cell_type": "markdown",
      "metadata": {
        "id": "XqsJDnExqTiI"
      },
      "source": [
        "#### <img align=\"center\" src=\"https://drive.google.com/uc?id=1OSSO58_H2DJQA_Fq9JlEYLff0I94QKlT\" alt=\"drawing\" width=\"100\"/> <font color='e922db' face=\"Times New Roman\" size=5>Pour pousser plus loin : les méthodes d'optimisation des hyperparamètres</font>"
      ]
    },
    {
      "cell_type": "markdown",
      "metadata": {
        "id": "I-LvaXSXtFi3"
      },
      "source": [
        "Considérons les hyperparamèteres d'un modèle d'apprentissage : supposons que l'on ait un modèle qui n'a qu'un seul hyperparamètre avec 10 valeurs possibles. \n",
        "Pour trouver le meilleur ensemble d'hyperparamètres, il est nécessaire d'entraîner 10 modèles différents pour traverser toutes les possibilités de manière exhaustive.\n",
        "\n",
        "Qu'arrive-t-il si le modèle a deux hyperparamètres avec 10 valeurs possibles?\n",
        "Puisque chaque hyperparamètre a 10 valeurs possibles, il y a $10^2 = 100$ combinaisons uniques des valeurs des hyperparamètres. \n",
        "Il faudrait alors entraîner 100 modèles différents pour explorer toutes les valeurs possibles des hyperparamètres.\n",
        "Si l'on avait 6 hyperparamètres de ce genre, il faudrait entraîner $10^6 = 1 \\;000 \\;000$ pour tester toutes les possibilités.\n",
        "\n",
        "![image](https://drive.google.com/uc?id=1sYy7Mm1dSyNW1g6g6rFvFz5DNRR6izID)\n",
        "\n",
        "Le réglage d'hyperparamètres en évaluant de manière exhaustive les possibilités porte le nom de **recherche exhaustive à base de grille** (*grid search*). Cette approche, bien qu'elle soit dominante dans le champ depuis des décennies, souffre du [fléau de la dimension](https://fr.wikipedia.org/wiki/Fl%C3%A9au_de_la_dimension) : cette recherche subit une explosion combinatoire, parce que chaque hyperparamètre multiplie l'effort nécessaire pour trouver la meilleure combinaison d'hyperparamètres. En d'autres mots, si on considère un hyperparamètre additionnel avec $k$ valeurs possibles, il faut multipler le nombre de modèles à entraîner par $k$.\n",
        "\n",
        "  La recherche d'hyperparamètres se fait aussi manuellement. Pour essayer de contourner le fléau de la dimension, on n'explore que quelques valeurs d'hyperparamètres informées par une expertise sur la tâche que nous essayons d'aborder. Il est possible de combiner les méthodes de recherche exhaustive et manuelle en explorant de façon exhaustive certaines valeurs d'hyperparamètres sélectionnées par des spécialistes. Par exemple, des spécialistes pourraient identifier un sous-ensemble d'hyperparamètres pertinents et une gamme restreinte pour chaque hyperparamètre.\n",
        "  \n",
        "L'un des principaux inconvénients de la recherche manuelle est la difficulté de reproduire les résultats. Notamment, il peut être difficile d'établir un protocole scientifique autour d'un processus manuel. De plus, l'expertise requise par la recherche manuelle est un obstacle majeur pour les non-experts.\n",
        "\n",
        "Une autre approche proposée est l'exploration aléatoire des hyperparamètres. Cette approche se base sur le choix de valeurs aléatoires pour les hyperparamètres au lieu d'une exploration exhaustive ou informée.\n",
        "Cette approche fonctionne parce que, dans la majorité des cas, les conséquences des hyperparamètres ne sont pas égales.\n",
        "Certains hyperparamètres sont plus importants que d'autres, ce qui rend inutile l'exploration de toutes les combinaisons possibles.\n",
        "<figure>\n",
        "  <img src=https://drive.google.com/uc?id=1VOmyOELnAz2kPgovE7GS93xZmR8d0ONI>\n",
        "  <figcaption align=\"center\">\n",
        "    Gif construit à partir de la figure 1 de <a href=\"#Bergstra2012\">(1)</a>.\n",
        "\n",
        "\n",
        "  </figcaption>\n",
        "  </img>\n",
        "\n",
        "</figure>"
      ]
    },
    {
      "cell_type": "code",
      "metadata": {
        "id": "B0H6pg0YIRuq"
      },
      "source": [
        "# Cette cellule démontre l'utilisation de RandomizedSearchCV()\n",
        "# pour optimiser les paramètres avec de l'échantillonnage aléatoire.\n",
        "from sklearn.linear_model import SGDRegressor\n",
        "from sklearn.model_selection import RandomizedSearchCV\n",
        "\n",
        "\n",
        "# On initialise le modèle.\n",
        "reg = SGDRegressor()\n",
        "\n",
        "# La fonction np.arange() permet de créer une gamme de valeurs.\n",
        "start = 0.1 # Commence à 0.1\n",
        "stop = 1 # Termine à 1\n",
        "step = 0.1 # Pas de 0.1 \n",
        "valeurs = np.arange(0.1, 1, 0.1) #[0.1, 0.2, 0.3, 0.4, 0.5, 0.6, 0.7, 0.8, 0.9]\n",
        "\n",
        "# On spécifie un dictionnaire d'hyperparamètres à régler.\n",
        "paramètres = {\n",
        "  'eta0' : valeurs, # un hyperparamètre important\n",
        "  'alpha' : np.arange(0,1,0.1) # un hyperparamètre sans importance\n",
        "}\n",
        "\n",
        "# On entraîne et on valide le modèle par validation croisée.\n",
        "clf = RandomizedSearchCV(reg, paramètres, cv = 5)"
      ],
      "execution_count": null,
      "outputs": []
    },
    {
      "cell_type": "markdown",
      "metadata": {
        "id": "BO9plX_5cwPK"
      },
      "source": [
        "Pour plus d'informations sur les avantages du réglage d'hyperparamètres par exploration aléatoire, la lecture de l'article suivant est recommandée :\n",
        "https://www.jmlr.org/papers/volume13/bergstra12a/bergstra12a.pdf \n",
        "\n"
      ]
    },
    {
      "cell_type": "markdown",
      "metadata": {
        "id": "WIYfyeSc7-ON"
      },
      "source": [
        "## <img align=\"center\" src=\"https://drive.google.com/uc?export=view&id=1HjAM7KY8wrX73rl0F_aOnK5Z-vwwsCrX\" alt=\"drawing\" width=\"100\"/> <font color = \"3832ba\" face=\"Times New Roman\" size=6>L'évaluation finale du modèle</font>\n",
        "\n",
        "Une fois le modèle entraîné, il est nécessaire d'évaluer sa performance puisque, à partir de ce point-ci, il ne sera plus modifié avant d'être évalué sur des données.\n",
        "\n",
        "Cette étape est critique à l'élaboration d'un programme d'apprentissage automatique pour obtenir une estimation de la véritable performance du modèle. Rappelons que le but de l'apprentissage automatique est d'obtenir de bonnes performances non seulement sur les instances de tâches pour lesquelles nous avons des étiquettes, mais aussi sur celles qui n'en ont pas.\n",
        "\n",
        "La procédure pour évaluer la performance du modèle est assez simple. En effet, il faut évaluer nos mesures de performance choisies sur des prédictions du modèle :\n",
        "> 1. On collecte un ensemble de données séparé des ensembles d'entraînement et de validation. Généralement, ceci se fait durant le prétraitement de données. Au lieu de collecter de nouvelles données, on sépare l'ensemble de données initial en deux ensembles dont l'un sert à l'entraînement et l'autre à l'évaluation.\n",
        "2. On génère des prédictions à partir des caractéristiques dans l'ensemble d'évaluation.\n",
        "3. On compare les prédictions du modèle avec les étiquettes respectives pour évaluer la performance du modèle sur des données qui n'ont pas été utilisées durant l'entraînement. \n",
        "\n",
        "> <img align=\"center\" src=\"https://static.thenounproject.com/png/202763-200.png\" alt=\"drawing\" width=\"50\"/> **Exercice** :\n",
        "1.  Définissez un  modèle de régression linéaire.\n",
        "2.  Faites varier deux hyperparamètres :\n",
        "  *   eta0: dans l'intervalle 0.001 à 0.901 avec des pas de 0.1;\n",
        "  *   alpha: dans l'intervalle 0 à 0.9 avec des pas de 0.1.\n",
        "3.  Effectuez une recherche exhaustive avec 5 groupes pour la validation croisée.\n",
        "4.  Affichez les meilleurs paramètres trouvés par votre recherche exhaustive.\n",
        "5.  Affichez le meilleur score obtenu lors de la recherche exhaustive par validation croisée.\n",
        "6.  Affichez le score obtenu sur les données test ou d'évaluation.\n",
        "6.  Représentez les données ainsi que l'ajustement final.\n",
        "**N.B.** : <font color = \"red\" size=4> Assurez-vous que vos résultats soient reproductibles. Considérez une graine de 61 pour la recherche exhaustive."
      ]
    },
    {
      "cell_type": "code",
      "source": [
        "## Définir le modèle.\n",
        "reg = SGDRegressor()\n",
        "\n",
        "## Définition du dictionnaire des hyperparamètres.\n",
        "dict_hyper = {\n",
        "    'eta0': np.arange(0.001, 1, 0.1),\n",
        "    'alpha': np.arange(0, 1, 0.1)\n",
        "}\n",
        "\n",
        "## Recherche exhaustive sur les paramètres.\n",
        "np.random.seed(61)\n",
        "reg_grid = GridSearchCV(reg, dict_hyper, cv = 5)\n",
        "\n",
        "## On entraîne reg_grid. \n",
        "\n",
        "reg_grid.fit(X_train.reshape(-1,1), y_train)"
      ],
      "metadata": {
        "id": "QVTaE1Ib0dDG"
      },
      "execution_count": null,
      "outputs": []
    },
    {
      "cell_type": "code",
      "source": [
        "print('\\nMeilleurs paramètres :\\n', reg_grid.best_params_)\n",
        "print('\\n=========================================================')\n",
        "print('\\nMeilleur score par validation croisée :\\n', reg_grid.best_score_)"
      ],
      "metadata": {
        "id": "aO288sy80VEz"
      },
      "execution_count": null,
      "outputs": []
    },
    {
      "cell_type": "markdown",
      "source": [
        "\n",
        "\n",
        "> **Évaluation finale sur les données tests** : \n",
        "\n",
        "Lorsque l'on fait de la régression linéaire, une mesure d'évaluation possible est le **coefficient de détermination**. \n",
        "*  Il est compris entre 0 et 1. Plus ce coefficient est proche de 1, mieux cela est. \n",
        "*  Il faut tout de même comprendre que le choix de la mesure d'évaluation dépend de plusieurs facteurs."
      ],
      "metadata": {
        "id": "TT7n3z1h17Qo"
      }
    },
    {
      "cell_type": "code",
      "source": [
        "## Extraire le meilleur estimateur à l'issue de la recherche des meilleurs hyperparamètres.\n",
        "best_reg_grid = reg_grid.best_estimator_\n",
        "\n",
        "## Prédiction sur les données tests. \n",
        "score_final = best_reg_grid.score(X_test.reshape(-1,1), y_test)\n",
        "\n",
        "print(f'Le coefficient de détermination obtenu est {round(score_final, 2)}')"
      ],
      "metadata": {
        "id": "KuMyVzqK2EQn"
      },
      "execution_count": null,
      "outputs": []
    },
    {
      "cell_type": "markdown",
      "source": [
        "\n",
        "\n",
        "> **Visualisation finale**\n",
        "\n"
      ],
      "metadata": {
        "id": "WC5x55sF4oIO"
      }
    },
    {
      "cell_type": "code",
      "source": [
        "y_pred_test = best_reg_grid.predict(X_test.reshape(-1,1))  # prédictions sur l'ensemble de validation\n",
        "\n",
        "plt.plot(X_test, y_pred_test)\n",
        "plt.scatter(X_test, y_test)"
      ],
      "metadata": {
        "id": "q1noJPAK4tmv"
      },
      "execution_count": null,
      "outputs": []
    },
    {
      "cell_type": "markdown",
      "metadata": {
        "id": "GXpxmkEPyDAd"
      },
      "source": [
        "# <img align=\"center\" src=\"https://drive.google.com/uc?export=view&id=1HjAM7KY8wrX73rl0F_aOnK5Z-vwwsCrX\" alt=\"drawing\" width=\"100\"/> **<font color = \"3832ba\" face=\"Times New Roman\" size=6>Références</font>**\n",
        "\n",
        "1. <a name=\"Bergstra2012\"></a> [Bergstra, J. et Bengio, Y. (2012). Random search for hyper-parameter optimization. *Journal of machine learning research*, *13*(1), 281-305.](https://https://www.jmlr.org/papers/volume13/bergstra12a/bergstra12a.pdf)\n",
        "2. https://commons.wikimedia.org/wiki/File:NumPy_logo_2020.svg\n",
        "3. https://colab.research.google.com/github/jakevdp/PythonDataScienceHandbook/blob/master/notebooks/05.02-Introducing-Scikit-Learn.ipynb#scrollTo=iZi8urT3aSJV\n",
        "4. https://colab.research.google.com/drive/1KdVSC7z_TDGXkrJjIm3H-Xi_yklId74y\n",
        "5. https://towardsdatascience.com/scikit-learn-vs-sklearn-6944b9dc1736\n",
        "6. https://static.thenounproject.com/png/202763-200.png\n",
        "7. https://scikit-learn.org/stable/_images/grid_search_cross_validation.png\n",
        "\n"
      ]
    }
  ]
}